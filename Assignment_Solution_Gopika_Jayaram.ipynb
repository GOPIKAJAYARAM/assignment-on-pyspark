{
  "cells": [
    {
      "cell_type": "markdown",
      "source": [
        "**SECTION 1**"
      ],
      "metadata": {
        "id": "FTb-dK9uLZcR"
      }
    },
    {
      "cell_type": "code",
      "execution_count": null,
      "metadata": {
        "colab": {
          "base_uri": "https://localhost:8080/"
        },
        "id": "8LqAndbUMtMW",
        "outputId": "9d6461b2-5854-4b41-bd6c-0b73538a004c"
      },
      "outputs": [
        {
          "output_type": "stream",
          "name": "stdout",
          "text": [
            "\r0% [Working]\r            \rIgn:1 https://developer.download.nvidia.com/compute/machine-learning/repos/ubuntu1804/x86_64  InRelease\n",
            "\r0% [Connecting to archive.ubuntu.com] [Connecting to security.ubuntu.com] [Conn\r                                                                               \rGet:2 https://developer.download.nvidia.com/compute/cuda/repos/ubuntu1804/x86_64  InRelease [1,581 B]\n",
            "\r0% [Connecting to archive.ubuntu.com] [Connecting to security.ubuntu.com] [Conn\r0% [Connecting to archive.ubuntu.com] [Connecting to security.ubuntu.com] [Conn\r                                                                               \rGet:3 https://cloud.r-project.org/bin/linux/ubuntu bionic-cran40/ InRelease [3,626 B]\n",
            "Hit:4 https://developer.download.nvidia.com/compute/machine-learning/repos/ubuntu1804/x86_64  Release\n",
            "Get:5 https://developer.download.nvidia.com/compute/cuda/repos/ubuntu1804/x86_64  Packages [913 kB]\n",
            "Hit:6 http://archive.ubuntu.com/ubuntu bionic InRelease\n",
            "Get:7 http://security.ubuntu.com/ubuntu bionic-security InRelease [88.7 kB]\n",
            "Hit:8 http://ppa.launchpad.net/c2d4u.team/c2d4u4.0+/ubuntu bionic InRelease\n",
            "Get:9 http://archive.ubuntu.com/ubuntu bionic-updates InRelease [88.7 kB]\n",
            "Hit:10 http://ppa.launchpad.net/cran/libgit2/ubuntu bionic InRelease\n",
            "Get:11 http://archive.ubuntu.com/ubuntu bionic-backports InRelease [83.3 kB]\n",
            "Hit:13 http://ppa.launchpad.net/deadsnakes/ppa/ubuntu bionic InRelease\n",
            "Hit:14 http://ppa.launchpad.net/graphics-drivers/ppa/ubuntu bionic InRelease\n",
            "Get:15 http://security.ubuntu.com/ubuntu bionic-security/universe amd64 Packages [1,545 kB]\n",
            "Get:16 http://archive.ubuntu.com/ubuntu bionic-updates/universe amd64 Packages [2,322 kB]\n",
            "Get:17 http://security.ubuntu.com/ubuntu bionic-security/main amd64 Packages [2,990 kB]\n",
            "Get:18 http://archive.ubuntu.com/ubuntu bionic-updates/main amd64 Packages [3,422 kB]\n",
            "Fetched 11.5 MB in 3s (3,598 kB/s)\n",
            "Reading package lists... Done\n"
          ]
        }
      ],
      "source": [
        "!apt-get update -y"
      ]
    },
    {
      "cell_type": "code",
      "execution_count": null,
      "metadata": {
        "id": "Xkm0AMTRNVy_"
      },
      "outputs": [],
      "source": [
        "!apt-get install openjdk-8-jdk-headless -qq > /dev/null"
      ]
    },
    {
      "cell_type": "code",
      "execution_count": null,
      "metadata": {
        "id": "sa4iavT9NV1K"
      },
      "outputs": [],
      "source": [
        "!wget -q https://archive.apache.org/dist/spark/spark-3.1.2/spark-3.1.2-bin-hadoop2.7.tgz"
      ]
    },
    {
      "cell_type": "code",
      "execution_count": null,
      "metadata": {
        "id": "MRhjeujuNV3s"
      },
      "outputs": [],
      "source": [
        "!tar xf spark-3.1.2-bin-hadoop2.7.tgz"
      ]
    },
    {
      "cell_type": "code",
      "execution_count": null,
      "metadata": {
        "id": "iQT63fk9NV56"
      },
      "outputs": [],
      "source": [
        "import os\n",
        "os.environ[\"JAVA_HOME\"] = \"/usr/lib/jvm/java-8-openjdk-amd64\"\n",
        "os.environ[\"SPARK_HOME\"] = \"/content/spark-3.1.2-bin-hadoop2.7\""
      ]
    },
    {
      "cell_type": "code",
      "execution_count": null,
      "metadata": {
        "id": "4RG15GuENV8l"
      },
      "outputs": [],
      "source": [
        "!pip install -q findspark\n",
        "import findspark\n",
        "findspark.init()"
      ]
    },
    {
      "cell_type": "code",
      "execution_count": null,
      "metadata": {
        "id": "3i_755uCN1U3"
      },
      "outputs": [],
      "source": [
        "from pyspark.sql import SparkSession\n",
        "spark = (SparkSession\n",
        ".builder\n",
        ".appName(\"<app_name>\")\n",
        ".getOrCreate())"
      ]
    },
    {
      "cell_type": "code",
      "execution_count": null,
      "metadata": {
        "colab": {
          "base_uri": "https://localhost:8080/"
        },
        "id": "ebclW12gRg9J",
        "outputId": "fa01adb2-d7a9-4a9a-a4bc-40d484f60079"
      },
      "outputs": [
        {
          "output_type": "stream",
          "name": "stdout",
          "text": [
            "Mounted at /content/gdrive\n"
          ]
        }
      ],
      "source": [
        "from google.colab import drive\n",
        "drive.mount('/content/gdrive')"
      ]
    },
    {
      "cell_type": "code",
      "execution_count": null,
      "metadata": {
        "id": "UNC7aJPsSEPk"
      },
      "outputs": [],
      "source": [
        "chess_info = spark.read.csv(\"/content/gdrive/MyDrive/Groker/chess_wc_history_game_info.csv\",header=\"true\")"
      ]
    },
    {
      "cell_type": "code",
      "execution_count": null,
      "metadata": {
        "id": "DyJ4NIZgWPG8"
      },
      "outputs": [],
      "source": [
        "chess_moves = spark.read.csv(\"/content/gdrive/MyDrive/Groker/chess_wc_history_moves.csv\",header=\"true\")"
      ]
    },
    {
      "cell_type": "code",
      "execution_count": null,
      "metadata": {
        "id": "nX4j-a0zWb6E"
      },
      "outputs": [],
      "source": [
        "eco_codes = spark.read.csv(\"/content/gdrive/MyDrive/Groker/eco_codes.csv\",header=\"true\")"
      ]
    },
    {
      "cell_type": "code",
      "execution_count": null,
      "metadata": {
        "id": "9tGF-c-uy17I"
      },
      "outputs": [],
      "source": [
        "from pyspark.sql.functions import split,col "
      ]
    },
    {
      "cell_type": "markdown",
      "source": [
        "**SECTION 2**"
      ],
      "metadata": {
        "id": "hRvrA0SGLiwX"
      }
    },
    {
      "cell_type": "markdown",
      "metadata": {
        "id": "XFDxBtpiNfSL"
      },
      "source": [
        "1. List of Winners of Each World champions Trophy Hint: Total Result of all rounds of Tournament for that player is considered as that player's\n",
        "Score/Result.\n",
        "Result attributes: winner, tournament_name"
      ]
    },
    {
      "cell_type": "code",
      "execution_count": null,
      "metadata": {
        "colab": {
          "base_uri": "https://localhost:8080/"
        },
        "id": "Nir2pqFoiLoC",
        "outputId": "d2cb5a23-c554-423a-e4c7-4555135c7f27"
      },
      "outputs": [
        {
          "output_type": "stream",
          "name": "stdout",
          "text": [
            "+------------------------------------+----------+--------+----------+-----------+-----+----------------+----------------+-------+---------+---------+-----------+-----------+---------+----------+----------------+---------+---------------------+---+------------------------+---------------+\n",
            "|game_id                             |game_order|event   |site      |date_played|round|white           |black           |result |white_elo|black_elo|white_title|black_title|winner   |winner_elo|loser           |loser_elo|winner_loser_elo_diff|eco|date_created            |tournament_name|\n",
            "+------------------------------------+----------+--------+----------+-----------+-----+----------------+----------------+-------+---------+---------+-----------+-----------+---------+----------+----------------+---------+---------------------+---+------------------------+---------------+\n",
            "|86e0b7f5-7b94-4ae3-97c8-317371622795|1         |WCh 2021|Dubai UAE |2021.11.26 |1    |Nepomniachtchi,I|Carlsen,M       |1/2-1/2|2782     |2855     |null       |null       |draw     |null      |draw            |null     |0                    |C88|2022-07-22T22:33:50+0000|WorldChamp2021 |\n",
            "|dc4a10ab-54cf-49d0-b7ed-8c81a07e3e27|2         |WCh 2021|Dubai UAE |2021.11.27 |2    |Carlsen,M       |Nepomniachtchi,I|1/2-1/2|2855     |2782     |null       |null       |draw     |null      |draw            |null     |0                    |E06|2022-07-22T22:33:50+0000|WorldChamp2021 |\n",
            "|f042ca37-8899-4887-87e9-e9d91c6e2d0e|3         |WCh 2021|Dubai UAE |2021.11.28 |3    |Nepomniachtchi,I|Carlsen,M       |1/2-1/2|2782     |2855     |null       |null       |draw     |null      |draw            |null     |0                    |C88|2022-07-22T22:33:50+0000|WorldChamp2021 |\n",
            "|f70e4bbc-21e3-46f3-add0-7f0091822d5a|4         |WCh 2021|Dubai UAE |2021.11.30 |4    |Carlsen,M       |Nepomniachtchi,I|1/2-1/2|2855     |2782     |null       |null       |draw     |null      |draw            |null     |0                    |C42|2022-07-22T22:33:50+0000|WorldChamp2021 |\n",
            "|c941c323-308a-4c86-9007-e1eb2a22cea6|5         |WCh 2021|Dubai UAE |2021.12.01 |5    |Nepomniachtchi,I|Carlsen,M       |1/2-1/2|2782     |2855     |null       |null       |draw     |null      |draw            |null     |0                    |C88|2022-07-22T22:33:50+0000|WorldChamp2021 |\n",
            "|58e83255-93bb-4d58-8c14-78a991419338|6         |WCh 2021|Dubai UAE |2021.12.03 |6    |Carlsen,M       |Nepomniachtchi,I|1-0    |2855     |2782     |null       |null       |Carlsen,M|2855      |Nepomniachtchi,I|2782     |73                   |D02|2022-07-22T22:33:50+0000|WorldChamp2021 |\n",
            "|29181d93-73f4-4fb2-af29-23bcf066cb62|7         |WCh 2021|Dubai UAE |2021.12.04 |7    |Nepomniachtchi,I|Carlsen,M       |1/2-1/2|2782     |2855     |null       |null       |draw     |null      |draw            |null     |0                    |C88|2022-07-22T22:33:50+0000|WorldChamp2021 |\n",
            "|8a4ccd8c-d437-4296-a815-6f55b2679c3e|8         |WCh 2021|Dubai UAE |2021.12.05 |8    |Carlsen,M       |Nepomniachtchi,I|1-0    |2855     |2782     |null       |null       |Carlsen,M|2855      |Nepomniachtchi,I|2782     |73                   |C43|2022-07-22T22:33:50+0000|WorldChamp2021 |\n",
            "|55a122db-27d1-495c-bec4-bc811c1e6950|9         |WCh 2021|Dubai UAE |2021.12.07 |9    |Nepomniachtchi,I|Carlsen,M       |0-1    |2782     |2855     |null       |null       |Carlsen,M|2855      |Nepomniachtchi,I|2782     |73                   |A13|2022-07-22T22:33:50+0000|WorldChamp2021 |\n",
            "|1f900d18-5ea3-4f48-8e39-cd50ed088694|10        |WCh 2021|Dubai UAE |2021.12.08 |10   |Carlsen,M       |Nepomniachtchi,I|1/2-1/2|2855     |2782     |null       |null       |draw     |null      |draw            |null     |0                    |C42|2022-07-22T22:33:50+0000|WorldChamp2021 |\n",
            "|c512a953-a341-47c9-a907-a608bc08be11|11        |WCh 2021|Dubai UAE |2021.12.10 |11   |Nepomniachtchi,I|Carlsen,M       |0-1    |2782     |2855     |null       |null       |Carlsen,M|2855      |Nepomniachtchi,I|2782     |73                   |C50|2022-07-22T22:33:50+0000|WorldChamp2021 |\n",
            "|99d39a93-427e-4d1a-bd36-ff23f98829e5|1         |WCh 2018|London ENG|2018.11.09 |1    |Caruana, Fabiano|Carlsen, Magnus |1/2-1/2|2832     |2835     |GM         |GM         |draw     |null      |draw            |null     |0                    |B31|2022-07-22T22:33:50+0000|WorldChamp2018 |\n",
            "|c87ceb3e-67a7-45d4-aa9e-ca2b2ead82be|2         |WCh 2018|London ENG|2018.11.10 |2    |Carlsen, Magnus |Caruana, Fabiano|1/2-1/2|2835     |2832     |GM         |GM         |draw     |null      |draw            |null     |0                    |D37|2022-07-22T22:33:50+0000|WorldChamp2018 |\n",
            "|d50510ea-9c1a-4604-835a-430eb9502894|3         |WCh 2018|London ENG|2018.11.12 |3    |Caruana, Fabiano|Carlsen, Magnus |1/2-1/2|2832     |2835     |GM         |GM         |draw     |null      |draw            |null     |0                    |B31|2022-07-22T22:33:50+0000|WorldChamp2018 |\n",
            "|e899e16a-281e-41b9-a060-7bbef890af0a|4         |WCh 2018|London ENG|2018.11.13 |4    |Carlsen, Magnus |Caruana, Fabiano|1/2-1/2|2835     |2832     |GM         |GM         |draw     |null      |draw            |null     |0                    |A29|2022-07-22T22:33:50+0000|WorldChamp2018 |\n",
            "|59f8da88-fd21-4051-b25d-60f720ea4b70|5         |WCh 2018|London ENG|2018.11.15 |5    |Caruana, Fabiano|Carlsen, Magnus |1/2-1/2|2832     |2835     |GM         |GM         |draw     |null      |draw            |null     |0                    |B31|2022-07-22T22:33:50+0000|WorldChamp2018 |\n",
            "|6dcc4b46-3155-47ef-8346-1356ce5a05ee|6         |WCh 2018|London ENG|2018.11.16 |6    |Carlsen, Magnus |Caruana, Fabiano|1/2-1/2|2835     |2832     |GM         |GM         |draw     |null      |draw            |null     |0                    |C42|2022-07-22T22:33:50+0000|WorldChamp2018 |\n",
            "|c0c727cf-03ec-4b4a-b0f5-77af800a7287|7         |WCh 2018|London ENG|2018.11.18 |7    |Carlsen, Magnus |Caruana, Fabiano|1/2-1/2|2835     |2832     |GM         |GM         |draw     |null      |draw            |null     |0                    |D37|2022-07-22T22:33:50+0000|WorldChamp2018 |\n",
            "|4c14e044-cacc-405d-af4d-2b392faca170|8         |WCh 2018|London ENG|2018.11.19 |8    |Caruana, Fabiano|Carlsen, Magnus |1/2-1/2|2832     |2835     |GM         |GM         |draw     |null      |draw            |null     |0                    |B33|2022-07-22T22:33:50+0000|WorldChamp2018 |\n",
            "|3f4eb26e-3cd1-43b0-a451-f1c6146d801d|9         |WCh 2018|London ENG|2018.11.21 |9    |Carlsen, Magnus |Caruana, Fabiano|1/2-1/2|2835     |2832     |GM         |GM         |draw     |null      |draw            |null     |0                    |A29|2022-07-22T22:33:50+0000|WorldChamp2018 |\n",
            "+------------------------------------+----------+--------+----------+-----------+-----+----------------+----------------+-------+---------+---------+-----------+-----------+---------+----------+----------------+---------+---------------------+---+------------------------+---------------+\n",
            "only showing top 20 rows\n",
            "\n"
          ]
        }
      ],
      "source": [
        "chess_info.show(truncate=False)"
      ]
    },
    {
      "cell_type": "code",
      "execution_count": null,
      "metadata": {
        "id": "O0BXC8Nk9tuO"
      },
      "outputs": [],
      "source": [
        "#Splitting winner column to get the first name\n",
        "chess_info1=chess_info.withColumn(\"winner_split\",split(col(\"winner\"),\"[,]\"))\\\n",
        "          .withColumn(\"winner1\",col(\"winner_split\")[0]).drop(\"winner_split\",\"winner\")"
      ]
    },
    {
      "cell_type": "code",
      "execution_count": null,
      "metadata": {
        "colab": {
          "base_uri": "https://localhost:8080/"
        },
        "id": "YeOxhBhH-KP8",
        "outputId": "9791dd85-a7e9-453e-8d47-837ee2eadbf3"
      },
      "outputs": [
        {
          "output_type": "stream",
          "name": "stdout",
          "text": [
            "+--------------------+----------+--------+---------+-----------+-----+----------------+----------------+-------+---------+---------+-----------+-----------+----------+-----+---------+---------------------+---+--------------------+---------------+-------+\n",
            "|             game_id|game_order|   event|     site|date_played|round|           white|           black| result|white_elo|black_elo|white_title|black_title|winner_elo|loser|loser_elo|winner_loser_elo_diff|eco|        date_created|tournament_name|winner1|\n",
            "+--------------------+----------+--------+---------+-----------+-----+----------------+----------------+-------+---------+---------+-----------+-----------+----------+-----+---------+---------------------+---+--------------------+---------------+-------+\n",
            "|86e0b7f5-7b94-4ae...|         1|WCh 2021|Dubai UAE| 2021.11.26|    1|Nepomniachtchi,I|       Carlsen,M|1/2-1/2|     2782|     2855|       null|       null|      null| draw|     null|                    0|C88|2022-07-22T22:33:...| WorldChamp2021|   draw|\n",
            "|dc4a10ab-54cf-49d...|         2|WCh 2021|Dubai UAE| 2021.11.27|    2|       Carlsen,M|Nepomniachtchi,I|1/2-1/2|     2855|     2782|       null|       null|      null| draw|     null|                    0|E06|2022-07-22T22:33:...| WorldChamp2021|   draw|\n",
            "|f042ca37-8899-488...|         3|WCh 2021|Dubai UAE| 2021.11.28|    3|Nepomniachtchi,I|       Carlsen,M|1/2-1/2|     2782|     2855|       null|       null|      null| draw|     null|                    0|C88|2022-07-22T22:33:...| WorldChamp2021|   draw|\n",
            "|f70e4bbc-21e3-46f...|         4|WCh 2021|Dubai UAE| 2021.11.30|    4|       Carlsen,M|Nepomniachtchi,I|1/2-1/2|     2855|     2782|       null|       null|      null| draw|     null|                    0|C42|2022-07-22T22:33:...| WorldChamp2021|   draw|\n",
            "+--------------------+----------+--------+---------+-----------+-----+----------------+----------------+-------+---------+---------+-----------+-----------+----------+-----+---------+---------------------+---+--------------------+---------------+-------+\n",
            "only showing top 4 rows\n",
            "\n"
          ]
        }
      ],
      "source": [
        "chess_info1.show(4)"
      ]
    },
    {
      "cell_type": "code",
      "execution_count": null,
      "metadata": {
        "id": "YnbCi27M8ufL"
      },
      "outputs": [],
      "source": [
        "che =chess_info1.groupBy(\"tournament_name\",\"winner1\").count().where(\"winner1 !='draw'\")"
      ]
    },
    {
      "cell_type": "code",
      "execution_count": null,
      "metadata": {
        "id": "pGPzk4waJVve"
      },
      "outputs": [],
      "source": [
        "import pyspark.sql.functions as F\n",
        "\n",
        "result1 = che.groupBy(\"tournament_name\") \\\n",
        "    .agg(F.max(F.struct(\"count\", \"winner1\")).alias(\"max\")) \\\n",
        "    .selectExpr(\"tournament_name\",\"max.winner1 as winner\", \"max.count as winning_count\")\n",
        "wc=result1"
      ]
    },
    {
      "cell_type": "code",
      "execution_count": null,
      "metadata": {
        "colab": {
          "base_uri": "https://localhost:8080/"
        },
        "id": "_nx_udFuK2P_",
        "outputId": "f6a875c9-41ab-42a4-f99a-011c25808243"
      },
      "outputs": [
        {
          "output_type": "stream",
          "name": "stdout",
          "text": [
            "+---------------+-------+\n",
            "|tournament_name| winner|\n",
            "+---------------+-------+\n",
            "| WorldChamp2004|   Leko|\n",
            "| WorldChamp1894| Lasker|\n",
            "| WorldChamp2013|Carlsen|\n",
            "|  FideChamp2000| Shirov|\n",
            "| WorldChamp2007|  Anand|\n",
            "+---------------+-------+\n",
            "only showing top 5 rows\n",
            "\n"
          ]
        }
      ],
      "source": [
        "result_1=result1.select(\"tournament_name\",\"winner\")\n",
        "result_1.show(5)"
      ]
    },
    {
      "cell_type": "markdown",
      "metadata": {
        "id": "Py8gU_QfNw1C"
      },
      "source": [
        "2. List of Players with number of times they have won Tournament in descending order(Max to min).\n",
        "Result attributes: player_name, number_of_wins"
      ]
    },
    {
      "cell_type": "code",
      "execution_count": null,
      "metadata": {
        "id": "8o8ULSgfNwfV"
      },
      "outputs": [],
      "source": [
        "result2=wc.sort('winning_count',ascending=False)\n",
        "result2=result2.withColumnRenamed(\"winning_count\",\"number_of_wins\")\n",
        "result2=result2.withColumnRenamed(\"winner\",\"player_name\")\n",
        "result2=result2.select(\"player_name\",\"number_of_wins\")"
      ]
    },
    {
      "cell_type": "code",
      "execution_count": null,
      "metadata": {
        "colab": {
          "base_uri": "https://localhost:8080/"
        },
        "id": "WKlFNgJxcZ9b",
        "outputId": "1cbc39b6-cf35-481a-ab3e-aae6420a5857"
      },
      "outputs": [
        {
          "output_type": "stream",
          "name": "stdout",
          "text": [
            "+------------+--------------+\n",
            "| player_name|number_of_wins|\n",
            "+------------+--------------+\n",
            "|Kasimdzhanov|            13|\n",
            "|  Ponomariov|            12|\n",
            "|   Khalifman|            12|\n",
            "|    Alekhine|            11|\n",
            "|    Steinitz|            10|\n",
            "|    Steinitz|            10|\n",
            "|    Alekhine|            10|\n",
            "|       Anand|            10|\n",
            "|      Lasker|            10|\n",
            "|      Lasker|            10|\n",
            "|   Botvinnik|            10|\n",
            "|   Botvinnik|            10|\n",
            "|    Steinitz|            10|\n",
            "|        Euwe|             9|\n",
            "|      Lasker|             8|\n",
            "+------------+--------------+\n",
            "only showing top 15 rows\n",
            "\n"
          ]
        }
      ],
      "source": [
        "result2.show(15)"
      ]
    },
    {
      "cell_type": "markdown",
      "metadata": {
        "id": "feUDUCCPPR-N"
      },
      "source": [
        "3. Most and Least Popular eco move in world championship history.\n",
        "Result attributes: eco, eco_name, number_of_occurences\n",
        "Final result will have only two rows"
      ]
    },
    {
      "cell_type": "code",
      "execution_count": null,
      "metadata": {
        "colab": {
          "base_uri": "https://localhost:8080/"
        },
        "id": "zqwcRaSNPEd7",
        "outputId": "d62b9c79-67c3-42c2-adee-06238cefbe53"
      },
      "outputs": [
        {
          "output_type": "stream",
          "name": "stdout",
          "text": [
            "+--------------------+-------+------------+----------------+--------+----+-----------+---------+-----+-----+--------------------+--------+-------------+--------------+----------------------+------------+------------------------+-----------+-----------+----------------+----------------+-----------------+-----------------+------------------+------------------+------------------+------------------+----------------+----------------+------------------------+------------------------+--------------------+--------------------+--------------------+--------------------+--------------------+--------------------+--------------------+--------------------+--------------------+--------------------+--------------------+--------------------+--------------------+--------------------+--------------------+--------------------+--------------------+--------------------+--------------------+--------------------+--------------------+--------------------+--------------------+--------------------+--------------------+--------------------+--------------------+--------------------+--------------------+--------------------+--------------------+--------------------+-----------------+\n",
            "|             game_id|move_no|move_no_pair|          player|notation|move|from_square|to_square|piece|color|                 fen|is_check|is_check_mate|is_fifty_moves|is_fivefold_repetition|is_game_over|is_insufficient_material|white_count|black_count|white_pawn_count|black_pawn_count|white_queen_count|black_queen_count|white_bishop_count|black_bishop_count|white_knight_count|black_knight_count|white_rook_count|black_rook_count|captured_score_for_white|captured_score_for_black|fen_row1_white_count|fen_row2_white_count|fen_row3_white_count|fen_row4_white_count|fen_row5_white_count|fen_row6_white_count|fen_row7_white_count|fen_row8_white_count|fen_row1_white_value|fen_row2_white_value|fen_row3_white_value|fen_row4_white_value|fen_row5_white_value|fen_row6_white_value|fen_row7_white_value|fen_row8_white_value|fen_row1_black_count|fen_row2_black_count|fen_row3_black_count|fen_row4_black_count|fen_row5_black_count|fen_row6_black_count|fen_row7_black_count|fen_row8_black_count|fen_row1_black_value|fen_row2_black_value|fen_row3_black_value|fen_row4_black_value|fen_row5_black_value|fen_row6_black_value|fen_row7_black_value|fen_row8_black_value|    move_sequence|\n",
            "+--------------------+-------+------------+----------------+--------+----+-----------+---------+-----+-----+--------------------+--------+-------------+--------------+----------------------+------------+------------------------+-----------+-----------+----------------+----------------+-----------------+-----------------+------------------+------------------+------------------+------------------+----------------+----------------+------------------------+------------------------+--------------------+--------------------+--------------------+--------------------+--------------------+--------------------+--------------------+--------------------+--------------------+--------------------+--------------------+--------------------+--------------------+--------------------+--------------------+--------------------+--------------------+--------------------+--------------------+--------------------+--------------------+--------------------+--------------------+--------------------+--------------------+--------------------+--------------------+--------------------+--------------------+--------------------+--------------------+--------------------+-----------------+\n",
            "|86e0b7f5-7b94-4ae...|      1|           1|Nepomniachtchi,I|      e4|e2e4|         e2|       e4|    P|White|rnbqkbnr/pppppppp...|       0|            0|             0|                     0|           0|                       0|         16|         16|               8|               8|                1|                1|                 2|                 2|                 2|                 2|               2|               2|                       0|                       0|                   8|                   7|                   0|                   1|                   0|                   0|                   0|                   0|                  31|                   7|                   0|                   1|                   0|                   0|                   0|                   0|                   0|                   0|                   0|                   0|                   0|                   0|                   8|                   8|                   0|                   0|                   0|                   0|                   0|                   0|                   8|                  31|               e4|\n",
            "|86e0b7f5-7b94-4ae...|      2|           1|       Carlsen,M|      e5|e7e5|         e7|       e5|    P|Black|rnbqkbnr/pppp1ppp...|       0|            0|             0|                     0|           0|                       0|         16|         16|               8|               8|                1|                1|                 2|                 2|                 2|                 2|               2|               2|                       0|                       0|                   8|                   7|                   0|                   1|                   0|                   0|                   0|                   0|                  31|                   7|                   0|                   1|                   0|                   0|                   0|                   0|                   0|                   0|                   0|                   0|                   1|                   0|                   7|                   8|                   0|                   0|                   0|                   0|                   1|                   0|                   7|                  31|            e4|e5|\n",
            "|86e0b7f5-7b94-4ae...|      3|           2|Nepomniachtchi,I|     Nf3|g1f3|         g1|       f3|    N|White|rnbqkbnr/pppp1ppp...|       0|            0|             0|                     0|           0|                       0|         16|         16|               8|               8|                1|                1|                 2|                 2|                 2|                 2|               2|               2|                       0|                       0|                   7|                   7|                   1|                   1|                   0|                   0|                   0|                   0|                  28|                   7|                   3|                   1|                   0|                   0|                   0|                   0|                   0|                   0|                   0|                   0|                   1|                   0|                   7|                   8|                   0|                   0|                   0|                   0|                   1|                   0|                   7|                  31|        e4|e5|Nf3|\n",
            "|86e0b7f5-7b94-4ae...|      4|           2|       Carlsen,M|     Nc6|b8c6|         b8|       c6|    N|Black|r1bqkbnr/pppp1ppp...|       0|            0|             0|                     0|           0|                       0|         16|         16|               8|               8|                1|                1|                 2|                 2|                 2|                 2|               2|               2|                       0|                       0|                   7|                   7|                   1|                   1|                   0|                   0|                   0|                   0|                  28|                   7|                   3|                   1|                   0|                   0|                   0|                   0|                   0|                   0|                   0|                   0|                   1|                   1|                   7|                   7|                   0|                   0|                   0|                   0|                   1|                   3|                   7|                  28|    e4|e5|Nf3|Nc6|\n",
            "|86e0b7f5-7b94-4ae...|      5|           3|Nepomniachtchi,I|     Bb5|f1b5|         f1|       b5|    B|White|r1bqkbnr/pppp1ppp...|       0|            0|             0|                     0|           0|                       0|         16|         16|               8|               8|                1|                1|                 2|                 2|                 2|                 2|               2|               2|                       0|                       0|                   6|                   7|                   1|                   1|                   1|                   0|                   0|                   0|                  25|                   7|                   3|                   1|                   3|                   0|                   0|                   0|                   0|                   0|                   0|                   0|                   1|                   1|                   7|                   7|                   0|                   0|                   0|                   0|                   1|                   3|                   7|                  28|e4|e5|Nf3|Nc6|Bb5|\n",
            "+--------------------+-------+------------+----------------+--------+----+-----------+---------+-----+-----+--------------------+--------+-------------+--------------+----------------------+------------+------------------------+-----------+-----------+----------------+----------------+-----------------+-----------------+------------------+------------------+------------------+------------------+----------------+----------------+------------------------+------------------------+--------------------+--------------------+--------------------+--------------------+--------------------+--------------------+--------------------+--------------------+--------------------+--------------------+--------------------+--------------------+--------------------+--------------------+--------------------+--------------------+--------------------+--------------------+--------------------+--------------------+--------------------+--------------------+--------------------+--------------------+--------------------+--------------------+--------------------+--------------------+--------------------+--------------------+--------------------+--------------------+-----------------+\n",
            "only showing top 5 rows\n",
            "\n"
          ]
        }
      ],
      "source": [
        "chess_moves.show(5)"
      ]
    },
    {
      "cell_type": "code",
      "execution_count": null,
      "metadata": {
        "colab": {
          "base_uri": "https://localhost:8080/"
        },
        "id": "c3g7ldUVTJrO",
        "outputId": "c0d1d7f0-0a90-4380-8abc-2946b4e75be5"
      },
      "outputs": [
        {
          "output_type": "stream",
          "name": "stdout",
          "text": [
            "+--------------------+----------+--------+---------+-----------+-----+----------------+----------------+-------+---------+---------+-----------+-----------+---------+----------+----------------+---------+---------------------+---+--------------------+---------------+\n",
            "|             game_id|game_order|   event|     site|date_played|round|           white|           black| result|white_elo|black_elo|white_title|black_title|   winner|winner_elo|           loser|loser_elo|winner_loser_elo_diff|eco|        date_created|tournament_name|\n",
            "+--------------------+----------+--------+---------+-----------+-----+----------------+----------------+-------+---------+---------+-----------+-----------+---------+----------+----------------+---------+---------------------+---+--------------------+---------------+\n",
            "|86e0b7f5-7b94-4ae...|         1|WCh 2021|Dubai UAE| 2021.11.26|    1|Nepomniachtchi,I|       Carlsen,M|1/2-1/2|     2782|     2855|       null|       null|     draw|      null|            draw|     null|                    0|C88|2022-07-22T22:33:...| WorldChamp2021|\n",
            "|dc4a10ab-54cf-49d...|         2|WCh 2021|Dubai UAE| 2021.11.27|    2|       Carlsen,M|Nepomniachtchi,I|1/2-1/2|     2855|     2782|       null|       null|     draw|      null|            draw|     null|                    0|E06|2022-07-22T22:33:...| WorldChamp2021|\n",
            "|f042ca37-8899-488...|         3|WCh 2021|Dubai UAE| 2021.11.28|    3|Nepomniachtchi,I|       Carlsen,M|1/2-1/2|     2782|     2855|       null|       null|     draw|      null|            draw|     null|                    0|C88|2022-07-22T22:33:...| WorldChamp2021|\n",
            "|f70e4bbc-21e3-46f...|         4|WCh 2021|Dubai UAE| 2021.11.30|    4|       Carlsen,M|Nepomniachtchi,I|1/2-1/2|     2855|     2782|       null|       null|     draw|      null|            draw|     null|                    0|C42|2022-07-22T22:33:...| WorldChamp2021|\n",
            "|c941c323-308a-4c8...|         5|WCh 2021|Dubai UAE| 2021.12.01|    5|Nepomniachtchi,I|       Carlsen,M|1/2-1/2|     2782|     2855|       null|       null|     draw|      null|            draw|     null|                    0|C88|2022-07-22T22:33:...| WorldChamp2021|\n",
            "|58e83255-93bb-4d5...|         6|WCh 2021|Dubai UAE| 2021.12.03|    6|       Carlsen,M|Nepomniachtchi,I|    1-0|     2855|     2782|       null|       null|Carlsen,M|      2855|Nepomniachtchi,I|     2782|                   73|D02|2022-07-22T22:33:...| WorldChamp2021|\n",
            "+--------------------+----------+--------+---------+-----------+-----+----------------+----------------+-------+---------+---------+-----------+-----------+---------+----------+----------------+---------+---------------------+---+--------------------+---------------+\n",
            "only showing top 6 rows\n",
            "\n"
          ]
        }
      ],
      "source": [
        "chess_info.show(6)"
      ]
    },
    {
      "cell_type": "code",
      "execution_count": null,
      "metadata": {
        "colab": {
          "base_uri": "https://localhost:8080/"
        },
        "id": "6ipJglqAP3ZK",
        "outputId": "d970f938-0394-49e0-f98e-49c54f6713a2"
      },
      "outputs": [
        {
          "output_type": "stream",
          "name": "stdout",
          "text": [
            "+---+--------------------+------------------+--------+---------+\n",
            "|eco|            eco_name|       eco_example|eco_type|eco_group|\n",
            "+---+--------------------+------------------+--------+---------+\n",
            "|A00|    Uncommon Opening|1 g4, a3, h3, etc.|       A|    Flank|\n",
            "|A01|Nimzovich-Larsen ...|              1 b3|       A|    Flank|\n",
            "|A02|      Bird's Opening|              1 f4|       A|    Flank|\n",
            "|A03|      Bird's Opening|           1 f4 d5|       A|    Flank|\n",
            "|A04|        Reti Opening|             1 Nf3|       A|    Flank|\n",
            "|A05|        Reti Opening|         1 Nf3 Nf6|       A|    Flank|\n",
            "+---+--------------------+------------------+--------+---------+\n",
            "only showing top 6 rows\n",
            "\n"
          ]
        }
      ],
      "source": [
        "eco_codes.show(6)"
      ]
    },
    {
      "cell_type": "code",
      "source": [
        "eco_info=eco_codes.join(chess_info, eco_codes.eco==chess_info.eco,how=\"inner\").drop(eco_codes.eco)"
      ],
      "metadata": {
        "id": "TGGOYuKK3A1o"
      },
      "execution_count": null,
      "outputs": []
    },
    {
      "cell_type": "code",
      "source": [
        "eco_info_move=eco_info.join(chess_moves, eco_info.game_id==chess_moves.game_id,how=\"inner\").drop(chess_moves.game_id)"
      ],
      "metadata": {
        "id": "oGkj_o7635uw"
      },
      "execution_count": null,
      "outputs": []
    },
    {
      "cell_type": "code",
      "source": [
        "eco_info_move.show(5)"
      ],
      "metadata": {
        "colab": {
          "base_uri": "https://localhost:8080/"
        },
        "id": "r1ccVhBp4i8H",
        "outputId": "7f5b0045-6e8d-48da-8a86-2958f3f19aca"
      },
      "execution_count": null,
      "outputs": [
        {
          "output_type": "stream",
          "name": "stdout",
          "text": [
            "+-----------------+--------------------+--------+--------------------+--------------------+----------+--------------------+---------+-----------+-----+----------------+--------------------+-------+---------+---------+-----------+-----------+------+----------+-----+---------+---------------------+---+--------------------+---------------+-------+------------+--------------------+--------+----+-----------+---------+-----+-----+--------------------+--------+-------------+--------------+----------------------+------------+------------------------+-----------+-----------+----------------+----------------+-----------------+-----------------+------------------+------------------+------------------+------------------+----------------+----------------+------------------------+------------------------+--------------------+--------------------+--------------------+--------------------+--------------------+--------------------+--------------------+--------------------+--------------------+--------------------+--------------------+--------------------+--------------------+--------------------+--------------------+--------------------+--------------------+--------------------+--------------------+--------------------+--------------------+--------------------+--------------------+--------------------+--------------------+--------------------+--------------------+--------------------+--------------------+--------------------+--------------------+--------------------+---------------+\n",
            "|         eco_name|         eco_example|eco_type|           eco_group|             game_id|game_order|               event|     site|date_played|round|           white|               black| result|white_elo|black_elo|white_title|black_title|winner|winner_elo|loser|loser_elo|winner_loser_elo_diff|eco|        date_created|tournament_name|move_no|move_no_pair|              player|notation|move|from_square|to_square|piece|color|                 fen|is_check|is_check_mate|is_fifty_moves|is_fivefold_repetition|is_game_over|is_insufficient_material|white_count|black_count|white_pawn_count|black_pawn_count|white_queen_count|black_queen_count|white_bishop_count|black_bishop_count|white_knight_count|black_knight_count|white_rook_count|black_rook_count|captured_score_for_white|captured_score_for_black|fen_row1_white_count|fen_row2_white_count|fen_row3_white_count|fen_row4_white_count|fen_row5_white_count|fen_row6_white_count|fen_row7_white_count|fen_row8_white_count|fen_row1_white_value|fen_row2_white_value|fen_row3_white_value|fen_row4_white_value|fen_row5_white_value|fen_row6_white_value|fen_row7_white_value|fen_row8_white_value|fen_row1_black_count|fen_row2_black_count|fen_row3_black_count|fen_row4_black_count|fen_row5_black_count|fen_row6_black_count|fen_row7_black_count|fen_row8_black_count|fen_row1_black_value|fen_row2_black_value|fen_row3_black_value|fen_row4_black_value|fen_row5_black_value|fen_row6_black_value|fen_row7_black_value|fen_row8_black_value|  move_sequence|\n",
            "+-----------------+--------------------+--------+--------------------+--------------------+----------+--------------------+---------+-----------+-----+----------------+--------------------+-------+---------+---------+-----------+-----------+------+----------+-----+---------+---------------------+---+--------------------+---------------+-------+------------+--------------------+--------+----+-----------+---------+-----+-----+--------------------+--------+-------------+--------------+----------------------+------------+------------------------+-----------+-----------+----------------+----------------+-----------------+-----------------+------------------+------------------+------------------+------------------+----------------+----------------+------------------------+------------------------+--------------------+--------------------+--------------------+--------------------+--------------------+--------------------+--------------------+--------------------+--------------------+--------------------+--------------------+--------------------+--------------------+--------------------+--------------------+--------------------+--------------------+--------------------+--------------------+--------------------+--------------------+--------------------+--------------------+--------------------+--------------------+--------------------+--------------------+--------------------+--------------------+--------------------+--------------------+--------------------+---------------+\n",
            "|Sicilian, Najdorf|1 e4 c5 2 Nf3 d6 ...|       B|Semi-Open (exc Fr...|09a19770-8f86-452...|         7|World Championshi...|Reykjavik| 1972.??.??|    7|Spassky, Boris V|Fischer, Robert J...|1/2-1/2|     2660|     2785|       null|       null|  draw|      null| draw|     null|                    0|B97|2022-07-22T22:35:...| WorldChamp1972|      1|           1|    Spassky, Boris V|      e4|e2e4|         e2|       e4|    P|White|rnbqkbnr/pppppppp...|       0|            0|             0|                     0|           0|                       0|         16|         16|               8|               8|                1|                1|                 2|                 2|                 2|                 2|               2|               2|                       0|                       0|                   8|                   7|                   0|                   1|                   0|                   0|                   0|                   0|                  31|                   7|                   0|                   1|                   0|                   0|                   0|                   0|                   0|                   0|                   0|                   0|                   0|                   0|                   8|                   8|                   0|                   0|                   0|                   0|                   0|                   0|                   8|                  31|             e4|\n",
            "|Sicilian, Najdorf|1 e4 c5 2 Nf3 d6 ...|       B|Semi-Open (exc Fr...|09a19770-8f86-452...|         7|World Championshi...|Reykjavik| 1972.??.??|    7|Spassky, Boris V|Fischer, Robert J...|1/2-1/2|     2660|     2785|       null|       null|  draw|      null| draw|     null|                    0|B97|2022-07-22T22:35:...| WorldChamp1972|      2|           1|Fischer, Robert J...|      c5|c7c5|         c7|       c5|    P|Black|rnbqkbnr/pp1ppppp...|       0|            0|             0|                     0|           0|                       0|         16|         16|               8|               8|                1|                1|                 2|                 2|                 2|                 2|               2|               2|                       0|                       0|                   8|                   7|                   0|                   1|                   0|                   0|                   0|                   0|                  31|                   7|                   0|                   1|                   0|                   0|                   0|                   0|                   0|                   0|                   0|                   0|                   1|                   0|                   7|                   8|                   0|                   0|                   0|                   0|                   1|                   0|                   7|                  31|          e4|c5|\n",
            "|Sicilian, Najdorf|1 e4 c5 2 Nf3 d6 ...|       B|Semi-Open (exc Fr...|09a19770-8f86-452...|         7|World Championshi...|Reykjavik| 1972.??.??|    7|Spassky, Boris V|Fischer, Robert J...|1/2-1/2|     2660|     2785|       null|       null|  draw|      null| draw|     null|                    0|B97|2022-07-22T22:35:...| WorldChamp1972|      3|           2|    Spassky, Boris V|     Nf3|g1f3|         g1|       f3|    N|White|rnbqkbnr/pp1ppppp...|       0|            0|             0|                     0|           0|                       0|         16|         16|               8|               8|                1|                1|                 2|                 2|                 2|                 2|               2|               2|                       0|                       0|                   7|                   7|                   1|                   1|                   0|                   0|                   0|                   0|                  28|                   7|                   3|                   1|                   0|                   0|                   0|                   0|                   0|                   0|                   0|                   0|                   1|                   0|                   7|                   8|                   0|                   0|                   0|                   0|                   1|                   0|                   7|                  31|      e4|c5|Nf3|\n",
            "|Sicilian, Najdorf|1 e4 c5 2 Nf3 d6 ...|       B|Semi-Open (exc Fr...|09a19770-8f86-452...|         7|World Championshi...|Reykjavik| 1972.??.??|    7|Spassky, Boris V|Fischer, Robert J...|1/2-1/2|     2660|     2785|       null|       null|  draw|      null| draw|     null|                    0|B97|2022-07-22T22:35:...| WorldChamp1972|      4|           2|Fischer, Robert J...|      d6|d7d6|         d7|       d6|    P|Black|rnbqkbnr/pp2pppp/...|       0|            0|             0|                     0|           0|                       0|         16|         16|               8|               8|                1|                1|                 2|                 2|                 2|                 2|               2|               2|                       0|                       0|                   7|                   7|                   1|                   1|                   0|                   0|                   0|                   0|                  28|                   7|                   3|                   1|                   0|                   0|                   0|                   0|                   0|                   0|                   0|                   0|                   1|                   1|                   6|                   8|                   0|                   0|                   0|                   0|                   1|                   1|                   6|                  31|   e4|c5|Nf3|d6|\n",
            "|Sicilian, Najdorf|1 e4 c5 2 Nf3 d6 ...|       B|Semi-Open (exc Fr...|09a19770-8f86-452...|         7|World Championshi...|Reykjavik| 1972.??.??|    7|Spassky, Boris V|Fischer, Robert J...|1/2-1/2|     2660|     2785|       null|       null|  draw|      null| draw|     null|                    0|B97|2022-07-22T22:35:...| WorldChamp1972|      5|           3|    Spassky, Boris V|      d4|d2d4|         d2|       d4|    P|White|rnbqkbnr/pp2pppp/...|       0|            0|             0|                     0|           0|                       0|         16|         16|               8|               8|                1|                1|                 2|                 2|                 2|                 2|               2|               2|                       0|                       0|                   7|                   6|                   1|                   2|                   0|                   0|                   0|                   0|                  28|                   6|                   3|                   2|                   0|                   0|                   0|                   0|                   0|                   0|                   0|                   0|                   1|                   1|                   6|                   8|                   0|                   0|                   0|                   0|                   1|                   1|                   6|                  31|e4|c5|Nf3|d6|d4|\n",
            "+-----------------+--------------------+--------+--------------------+--------------------+----------+--------------------+---------+-----------+-----+----------------+--------------------+-------+---------+---------+-----------+-----------+------+----------+-----+---------+---------------------+---+--------------------+---------------+-------+------------+--------------------+--------+----+-----------+---------+-----+-----+--------------------+--------+-------------+--------------+----------------------+------------+------------------------+-----------+-----------+----------------+----------------+-----------------+-----------------+------------------+------------------+------------------+------------------+----------------+----------------+------------------------+------------------------+--------------------+--------------------+--------------------+--------------------+--------------------+--------------------+--------------------+--------------------+--------------------+--------------------+--------------------+--------------------+--------------------+--------------------+--------------------+--------------------+--------------------+--------------------+--------------------+--------------------+--------------------+--------------------+--------------------+--------------------+--------------------+--------------------+--------------------+--------------------+--------------------+--------------------+--------------------+--------------------+---------------+\n",
            "only showing top 5 rows\n",
            "\n"
          ]
        }
      ]
    },
    {
      "cell_type": "code",
      "source": [
        "data=eco_info_move.groupBy(\"eco\",\"eco_name\").count()\n",
        "data=data.withColumnRenamed(\"count\",\"number_of_occurences\")\n",
        "data1=data.sort(\"number_of_occurences\",ascending=False)\n",
        "data1=data1.limit(1)\n",
        "data2=data.sort(\"number_of_occurences\",ascending=True)\n",
        "data2=data2.limit(1)\n",
        "\n",
        "data3=data1.unionByName(data2)\n",
        "data3.show()"
      ],
      "metadata": {
        "colab": {
          "base_uri": "https://localhost:8080/"
        },
        "id": "LaC48a3B4_0j",
        "outputId": "62af90d4-1889-4736-c543-9736683e2559"
      },
      "execution_count": null,
      "outputs": [
        {
          "output_type": "stream",
          "name": "stdout",
          "text": [
            "+---+--------------------+--------------------+\n",
            "|eco|            eco_name|number_of_occurences|\n",
            "+---+--------------------+--------------------+\n",
            "|C42|      Petrov Defense|                5599|\n",
            "|D54|Queen's Gambit De...|                  30|\n",
            "+---+--------------------+--------------------+\n",
            "\n"
          ]
        }
      ]
    },
    {
      "cell_type": "markdown",
      "source": [
        "4. Find the eco move with most winnings.\n",
        "Ps. Use this opening move in your next chess game🙂\n",
        "Result attributes: eco, eco_name"
      ],
      "metadata": {
        "id": "oKSM2nag7sCd"
      }
    },
    {
      "cell_type": "code",
      "source": [
        "df4=eco_info_move.select(\"eco\",\"eco_name\").where(\"winner != 'draw'\")"
      ],
      "metadata": {
        "id": "ramOMiuM7xBj"
      },
      "execution_count": null,
      "outputs": []
    },
    {
      "cell_type": "code",
      "source": [
        "df_4= df4.groupBy(\"eco\",\"eco_name\").count()\n",
        "df_4=df_4.sort(\"count\",ascending=False)\n",
        "df_4=df_4.select(\"eco\",\"eco_name\")\n",
        "df_4=df_4.limit(1)\n",
        "df_4.show()\n"
      ],
      "metadata": {
        "colab": {
          "base_uri": "https://localhost:8080/"
        },
        "id": "YHERdx4W87K_",
        "outputId": "4bf76949-da1c-4bed-8f21-35592ac3e393"
      },
      "execution_count": null,
      "outputs": [
        {
          "output_type": "stream",
          "name": "stdout",
          "text": [
            "+---+-----------------+\n",
            "|eco|         eco_name|\n",
            "+---+-----------------+\n",
            "|B90|Sicilian, Najdorf|\n",
            "+---+-----------------+\n",
            "\n"
          ]
        }
      ]
    },
    {
      "cell_type": "markdown",
      "metadata": {
        "id": "imsLiRCCW7N1"
      },
      "source": [
        "5. Longest and shortest game ever played in a world championship in terms of move.\n",
        "Chess Funda: \"move\" is completed once both White and Black have played one turn. e.g If a game lasts 10 moves, both White and Black have\n",
        "played 10 moves)\n",
        "Result attributes: game_id, event, tournament_name, number_of_moves\n",
        "Final result will have only two rows"
      ]
    },
    {
      "cell_type": "code",
      "execution_count": null,
      "metadata": {
        "id": "JdgC6wfxRJPa"
      },
      "outputs": [],
      "source": [
        "df_pre=chess_moves.groupBy(\"game_id\").count()\n",
        "df1 = df_pre.sort(\"count\",ascending=False)\n",
        "df2 = df_pre.sort(\"count\",ascending=True)"
      ]
    },
    {
      "cell_type": "code",
      "execution_count": null,
      "metadata": {
        "id": "1_qmhbouZP4O"
      },
      "outputs": [],
      "source": [
        "highest_count=df1.limit(1)\n",
        "lowest_count=df2.limit(1)"
      ]
    },
    {
      "cell_type": "code",
      "execution_count": null,
      "metadata": {
        "id": "tgPbw6s_6k2Y"
      },
      "outputs": [],
      "source": [
        "result5= highest_count.unionByName(lowest_count)"
      ]
    },
    {
      "cell_type": "code",
      "execution_count": null,
      "metadata": {
        "id": "wzXpVsqL9ihi"
      },
      "outputs": [],
      "source": [
        "result05=chess_info.join(result5, chess_info1.game_id==result5.game_id, how=\"right\").drop(result5.game_id)"
      ]
    },
    {
      "cell_type": "code",
      "execution_count": null,
      "metadata": {
        "colab": {
          "base_uri": "https://localhost:8080/"
        },
        "id": "FulX1VW_9kp-",
        "outputId": "57c76f3c-aaf6-4a0f-d2b3-5dbe9be94683"
      },
      "outputs": [
        {
          "output_type": "stream",
          "name": "stdout",
          "text": [
            "+--------------------+--------------------+---------------+-----+\n",
            "|             game_id|               event|tournament_name|count|\n",
            "+--------------------+--------------------+---------------+-----+\n",
            "|4424a0a4-3732-407...|         FIDE WCh KO|  FideChamp2000|  291|\n",
            "|1846cede-0037-4f0...|World Championshi...| WorldChamp1972|    1|\n",
            "+--------------------+--------------------+---------------+-----+\n",
            "\n"
          ]
        }
      ],
      "source": [
        "result05.select(\"game_id\",\"event\",\"tournament_name\",\"count\").show()"
      ]
    },
    {
      "cell_type": "markdown",
      "metadata": {
        "id": "qSTWlztEBr1x"
      },
      "source": [
        "6. Shortest and Longest Draw game ever Played.\n",
        "Result attributes: game_id, event, tournament_name, number_of_moves\n",
        "Final result will have only two rows"
      ]
    },
    {
      "cell_type": "code",
      "execution_count": null,
      "metadata": {
        "colab": {
          "base_uri": "https://localhost:8080/"
        },
        "id": "KNtUKZBWCCb-",
        "outputId": "2d993f5d-39c7-4845-c84f-cbd0d5ce6b7e"
      },
      "outputs": [
        {
          "output_type": "stream",
          "name": "stdout",
          "text": [
            "+--------------------+----------+--------+---------+-----------+-----+----------------+----------------+-------+---------+---------+-----------+-----------+----------+-----+---------+---------------------+---+--------------------+---------------+-------+\n",
            "|             game_id|game_order|   event|     site|date_played|round|           white|           black| result|white_elo|black_elo|white_title|black_title|winner_elo|loser|loser_elo|winner_loser_elo_diff|eco|        date_created|tournament_name|winner1|\n",
            "+--------------------+----------+--------+---------+-----------+-----+----------------+----------------+-------+---------+---------+-----------+-----------+----------+-----+---------+---------------------+---+--------------------+---------------+-------+\n",
            "|86e0b7f5-7b94-4ae...|         1|WCh 2021|Dubai UAE| 2021.11.26|    1|Nepomniachtchi,I|       Carlsen,M|1/2-1/2|     2782|     2855|       null|       null|      null| draw|     null|                    0|C88|2022-07-22T22:33:...| WorldChamp2021|   draw|\n",
            "|dc4a10ab-54cf-49d...|         2|WCh 2021|Dubai UAE| 2021.11.27|    2|       Carlsen,M|Nepomniachtchi,I|1/2-1/2|     2855|     2782|       null|       null|      null| draw|     null|                    0|E06|2022-07-22T22:33:...| WorldChamp2021|   draw|\n",
            "|f042ca37-8899-488...|         3|WCh 2021|Dubai UAE| 2021.11.28|    3|Nepomniachtchi,I|       Carlsen,M|1/2-1/2|     2782|     2855|       null|       null|      null| draw|     null|                    0|C88|2022-07-22T22:33:...| WorldChamp2021|   draw|\n",
            "|f70e4bbc-21e3-46f...|         4|WCh 2021|Dubai UAE| 2021.11.30|    4|       Carlsen,M|Nepomniachtchi,I|1/2-1/2|     2855|     2782|       null|       null|      null| draw|     null|                    0|C42|2022-07-22T22:33:...| WorldChamp2021|   draw|\n",
            "|c941c323-308a-4c8...|         5|WCh 2021|Dubai UAE| 2021.12.01|    5|Nepomniachtchi,I|       Carlsen,M|1/2-1/2|     2782|     2855|       null|       null|      null| draw|     null|                    0|C88|2022-07-22T22:33:...| WorldChamp2021|   draw|\n",
            "+--------------------+----------+--------+---------+-----------+-----+----------------+----------------+-------+---------+---------+-----------+-----------+----------+-----+---------+---------------------+---+--------------------+---------------+-------+\n",
            "only showing top 5 rows\n",
            "\n"
          ]
        }
      ],
      "source": [
        "chess_info1.show(5)"
      ]
    },
    {
      "cell_type": "code",
      "execution_count": null,
      "metadata": {
        "id": "mH3R1tnqCu3g"
      },
      "outputs": [],
      "source": [
        "result6=chess_info1.where(\"winner1 = 'draw'\")"
      ]
    },
    {
      "cell_type": "code",
      "execution_count": null,
      "metadata": {
        "id": "ktRhBgNy-zAJ"
      },
      "outputs": [],
      "source": [
        "result06 =result6.groupBy(\"tournament_name\").count()"
      ]
    },
    {
      "cell_type": "code",
      "execution_count": null,
      "metadata": {
        "id": "hSscVwXTEvDS"
      },
      "outputs": [],
      "source": [
        "df61 = result06.sort(\"count\",ascending=False)\n",
        "df62 = result06.sort(\"count\",ascending=True)"
      ]
    },
    {
      "cell_type": "code",
      "execution_count": null,
      "metadata": {
        "id": "Kf_Sn8-_E9Wl"
      },
      "outputs": [],
      "source": [
        "highest_count=df61.limit(1)\n",
        "lowest_count=df62.limit(1)"
      ]
    },
    {
      "cell_type": "code",
      "execution_count": null,
      "metadata": {
        "id": "PtzivtdvFBek"
      },
      "outputs": [],
      "source": [
        "result006= highest_count.unionByName(lowest_count)"
      ]
    },
    {
      "cell_type": "code",
      "execution_count": null,
      "metadata": {
        "id": "Y8LorvilFLoT"
      },
      "outputs": [],
      "source": [
        "result_06=chess_info.join(result006, chess_info1.tournament_name==result006.tournament_name, how=\"inner\").drop(result006.tournament_name)"
      ]
    },
    {
      "cell_type": "code",
      "execution_count": null,
      "metadata": {
        "id": "xdvrFJziCdwI"
      },
      "outputs": [],
      "source": [
        "a1=result_06.select(\"game_id\",\"event\",\"tournament_name\",\"count\").limit(1)"
      ]
    },
    {
      "cell_type": "code",
      "execution_count": null,
      "metadata": {
        "colab": {
          "base_uri": "https://localhost:8080/"
        },
        "id": "HUJ3v93XClzo",
        "outputId": "72ffe89b-0215-4899-921f-61d820f0e3d3"
      },
      "outputs": [
        {
          "output_type": "stream",
          "name": "stdout",
          "text": [
            "+---------------+-----+\n",
            "|tournament_name|count|\n",
            "+---------------+-----+\n",
            "|  FideChamp2002|  197|\n",
            "+---------------+-----+\n",
            "\n"
          ]
        }
      ],
      "source": [
        "highest_count.show()"
      ]
    },
    {
      "cell_type": "code",
      "execution_count": null,
      "metadata": {
        "colab": {
          "base_uri": "https://localhost:8080/"
        },
        "id": "L6ScN3zIGIme",
        "outputId": "d7767783-e1cf-49fe-df40-eb6845bd1f86"
      },
      "outputs": [
        {
          "output_type": "stream",
          "name": "stdout",
          "text": [
            "+--------------------+----------+-----------+----------+-----------+-----+-----------------+-------------+-------+---------+---------+-----------+-----------+------------+----------+--------------+---------+---------------------+---+--------------------+---------------+-----+\n",
            "|             game_id|game_order|      event|      site|date_played|round|            white|        black| result|white_elo|black_elo|white_title|black_title|      winner|winner_elo|         loser|loser_elo|winner_loser_elo_diff|eco|        date_created|tournament_name|count|\n",
            "+--------------------+----------+-----------+----------+-----------+-----+-----------------+-------------+-------+---------+---------+-----------+-----------+------------+----------+--------------+---------+---------------------+---+--------------------+---------------+-----+\n",
            "|cf78855f-23a5-430...|         1|FIDE WCh KO|Moscow RUS| 2001.11.03|  4.1|         Adams,Mi|    Svidler,P|1/2-1/2|     2731|     2686|       null|       null|        draw|      null|          draw|     null|                    0|B90|2022-07-22T22:34:...|  FideChamp2002|  197|\n",
            "|df47f2a5-0970-4a5...|         2|FIDE WCh KO|Moscow RUS| 2001.11.03|  4.1|       Ivanchuk,V|Ye Jiangchuan|    1-0|     2731|     2681|       null|       null|  Ivanchuk,V|      2731| Ye Jiangchuan|     2681|                   50|E97|2022-07-22T22:34:...|  FideChamp2002|  197|\n",
            "|74a45813-800e-4d2...|         3|FIDE WCh KO|Moscow RUS| 2001.11.03|  4.1|     Ponomariov,R| Morozevich,A|    1-0|     2684|     2742|       null|       null|Ponomariov,R|      2684|  Morozevich,A|     2742|                  -58|C11|2022-07-22T22:34:...|  FideChamp2002|  197|\n",
            "|a0d5121d-c203-413...|         4|FIDE WCh KO|Moscow RUS| 2001.11.03|  4.1|        Lautier,J|   Nikolic,Pr|1/2-1/2|     2653|     2652|       null|       null|        draw|      null|          draw|     null|                    0|E42|2022-07-22T22:34:...|  FideChamp2002|  197|\n",
            "|2d2daa1e-8710-40c...|         5|FIDE WCh KO|Moscow RUS| 2001.11.03|  4.1|         Bareev,E|    Ehlvest,J|    1-0|     2719|     2626|       null|       null|    Bareev,E|      2719|     Ehlvest,J|     2626|                   93|E11|2022-07-22T22:34:...|  FideChamp2002|  197|\n",
            "|2adaff9c-7caf-415...|         6|FIDE WCh KO|Moscow RUS| 2001.11.03|  4.1|Azmaiparashvili,Z|    Gelfand,B|1/2-1/2|     2674|     2701|       null|       null|        draw|      null|          draw|     null|                    0|E05|2022-07-22T22:34:...|  FideChamp2002|  197|\n",
            "|b1d6ee57-1a5f-49f...|         7|FIDE WCh KO|Moscow RUS| 2001.11.03|  4.1|        Topalov,V|     Shirov,A|1/2-1/2|     2733|     2706|       null|       null|        draw|      null|          draw|     null|                    0|C42|2022-07-22T22:34:...|  FideChamp2002|  197|\n",
            "|9764f629-fbd1-418...|         8|FIDE WCh KO|Moscow RUS| 2001.11.03|  4.1|          Dreev,A|      Anand,V|1/2-1/2|     2676|     2770|       null|       null|        draw|      null|          draw|     null|                    0|E12|2022-07-22T22:34:...|  FideChamp2002|  197|\n",
            "|fc7da634-bb04-431...|         9|FIDE WCh KO|Moscow RUS| 2001.11.27|  1.1|       Nielsen,PH|     Goldin,A|    1-0|     2620|     2612|       null|       null|  Nielsen,PH|      2620|      Goldin,A|     2612|                    8|E05|2022-07-22T22:34:...|  FideChamp2002|  197|\n",
            "|3d4e016a-db0f-4fe...|        10|FIDE WCh KO|Moscow RUS| 2001.11.27|  1.1|       Kobalija,M|      Aseev,K|1/2-1/2|     2603|     2591|       null|       null|        draw|      null|          draw|     null|                    0|C54|2022-07-22T22:34:...|  FideChamp2002|  197|\n",
            "|e33f74bc-1177-45e...|        11|FIDE WCh KO|Moscow RUS| 2001.11.27|  1.1|      Sasikiran,K|    Eingorn,V|1/2-1/2|     2569|     2601|       null|       null|        draw|      null|          draw|     null|                    0|E11|2022-07-22T22:34:...|  FideChamp2002|  197|\n",
            "|917e8995-8702-402...|        12|FIDE WCh KO|Moscow RUS| 2001.11.27|  1.1|         Avrukh,B|    Macieja,B|    0-1|     2606|     2582|       null|       null|   Macieja,B|      2582|      Avrukh,B|     2606|                  -24|E15|2022-07-22T22:34:...|  FideChamp2002|  197|\n",
            "|c62fc18c-b55a-41f...|        13|FIDE WCh KO|Moscow RUS| 2001.11.27|  1.3|       Korchnoi,V|    Psakhis,L|1/2-1/2|     2639|     2573|       null|       null|        draw|      null|          draw|     null|                    0|E13|2022-07-22T22:34:...|  FideChamp2002|  197|\n",
            "|3c60325c-2b5f-41f...|        14|FIDE WCh KO|Moscow RUS| 2001.11.27|  1.3|   Christiansen,L|   Tiviakov,S|    0-1|     2570|     2599|       null|       null|  Tiviakov,S|      2599|Christiansen,L|     2570|                   29|B77|2022-07-22T22:34:...|  FideChamp2002|  197|\n",
            "|a2728147-9d2e-4ff...|        15|FIDE WCh KO|Moscow RUS| 2001.11.27|  1.1|      Dominguez,L|     Kotsur,P|1/2-1/2|     2596|     2572|       null|       null|        draw|      null|          draw|     null|                    0|B36|2022-07-22T22:34:...|  FideChamp2002|  197|\n",
            "|1f6ef325-0317-4e4...|        16|FIDE WCh KO|Moscow RUS| 2001.11.27|  1.1|          Gulko,B|    Vescovi,G|1/2-1/2|     2608|     2585|       null|       null|        draw|      null|          draw|     null|                    0|E51|2022-07-22T22:34:...|  FideChamp2002|  197|\n",
            "|8f1cf14f-dc44-40b...|        17|FIDE WCh KO|Moscow RUS| 2001.11.27|  1.1|       Conquest,S|    Gyimesi,Z|1/2-1/2|     2601|     2605|       null|       null|        draw|      null|          draw|     null|                    0|E54|2022-07-22T22:34:...|  FideChamp2002|  197|\n",
            "|8b1cbc2c-3a94-4cb...|        18|FIDE WCh KO|Moscow RUS| 2001.11.27|  1.1|         Asrian,K|    Khenkin,I|1/2-1/2|     2604|     2572|       null|       null|        draw|      null|          draw|     null|                    0|B12|2022-07-22T22:34:...|  FideChamp2002|  197|\n",
            "|41ae3e1c-9c3c-408...|        19|FIDE WCh KO|Moscow RUS| 2001.11.27|  1.1|         Volkov,S|     Luther,T|    1-0|     2578|     2604|       null|       null|    Volkov,S|      2578|      Luther,T|     2604|                  -26|D12|2022-07-22T22:34:...|  FideChamp2002|  197|\n",
            "|50cb0eae-4ca7-464...|        20|FIDE WCh KO|Moscow RUS| 2001.11.27|  1.1|       Kaidanov,G|   Shabalov,A|    0-1|     2605|     2585|       null|       null|  Shabalov,A|      2585|    Kaidanov,G|     2605|                  -20|D37|2022-07-22T22:34:...|  FideChamp2002|  197|\n",
            "+--------------------+----------+-----------+----------+-----------+-----+-----------------+-------------+-------+---------+---------+-----------+-----------+------------+----------+--------------+---------+---------------------+---+--------------------+---------------+-----+\n",
            "only showing top 20 rows\n",
            "\n"
          ]
        }
      ],
      "source": [
        "result_06.show()"
      ]
    },
    {
      "cell_type": "markdown",
      "metadata": {
        "id": "XKX8hirnQ0eX"
      },
      "source": [
        "7. Most and Least rated Player.\n",
        "Result attributes: player_name, elo\n",
        "Chess Funda: elo is the rating of the player in chess tournament.\n",
        "Final result will have only two rows"
      ]
    },
    {
      "cell_type": "code",
      "execution_count": null,
      "metadata": {
        "colab": {
          "base_uri": "https://localhost:8080/"
        },
        "id": "ImSqca5cGWl1",
        "outputId": "38300cbf-6766-48ef-fb3d-1c0878e03243"
      },
      "outputs": [
        {
          "output_type": "stream",
          "name": "stdout",
          "text": [
            "+--------------------+----------+--------+---------+-----------+-----+----------------+----------------+-------+---------+---------+-----------+-----------+---------+----------+----------------+---------+---------------------+---+--------------------+---------------+\n",
            "|             game_id|game_order|   event|     site|date_played|round|           white|           black| result|white_elo|black_elo|white_title|black_title|   winner|winner_elo|           loser|loser_elo|winner_loser_elo_diff|eco|        date_created|tournament_name|\n",
            "+--------------------+----------+--------+---------+-----------+-----+----------------+----------------+-------+---------+---------+-----------+-----------+---------+----------+----------------+---------+---------------------+---+--------------------+---------------+\n",
            "|86e0b7f5-7b94-4ae...|         1|WCh 2021|Dubai UAE| 2021.11.26|    1|Nepomniachtchi,I|       Carlsen,M|1/2-1/2|     2782|     2855|       null|       null|     draw|      null|            draw|     null|                    0|C88|2022-07-22T22:33:...| WorldChamp2021|\n",
            "|dc4a10ab-54cf-49d...|         2|WCh 2021|Dubai UAE| 2021.11.27|    2|       Carlsen,M|Nepomniachtchi,I|1/2-1/2|     2855|     2782|       null|       null|     draw|      null|            draw|     null|                    0|E06|2022-07-22T22:33:...| WorldChamp2021|\n",
            "|f042ca37-8899-488...|         3|WCh 2021|Dubai UAE| 2021.11.28|    3|Nepomniachtchi,I|       Carlsen,M|1/2-1/2|     2782|     2855|       null|       null|     draw|      null|            draw|     null|                    0|C88|2022-07-22T22:33:...| WorldChamp2021|\n",
            "|f70e4bbc-21e3-46f...|         4|WCh 2021|Dubai UAE| 2021.11.30|    4|       Carlsen,M|Nepomniachtchi,I|1/2-1/2|     2855|     2782|       null|       null|     draw|      null|            draw|     null|                    0|C42|2022-07-22T22:33:...| WorldChamp2021|\n",
            "|c941c323-308a-4c8...|         5|WCh 2021|Dubai UAE| 2021.12.01|    5|Nepomniachtchi,I|       Carlsen,M|1/2-1/2|     2782|     2855|       null|       null|     draw|      null|            draw|     null|                    0|C88|2022-07-22T22:33:...| WorldChamp2021|\n",
            "|58e83255-93bb-4d5...|         6|WCh 2021|Dubai UAE| 2021.12.03|    6|       Carlsen,M|Nepomniachtchi,I|    1-0|     2855|     2782|       null|       null|Carlsen,M|      2855|Nepomniachtchi,I|     2782|                   73|D02|2022-07-22T22:33:...| WorldChamp2021|\n",
            "|29181d93-73f4-4fb...|         7|WCh 2021|Dubai UAE| 2021.12.04|    7|Nepomniachtchi,I|       Carlsen,M|1/2-1/2|     2782|     2855|       null|       null|     draw|      null|            draw|     null|                    0|C88|2022-07-22T22:33:...| WorldChamp2021|\n",
            "|8a4ccd8c-d437-429...|         8|WCh 2021|Dubai UAE| 2021.12.05|    8|       Carlsen,M|Nepomniachtchi,I|    1-0|     2855|     2782|       null|       null|Carlsen,M|      2855|Nepomniachtchi,I|     2782|                   73|C43|2022-07-22T22:33:...| WorldChamp2021|\n",
            "|55a122db-27d1-495...|         9|WCh 2021|Dubai UAE| 2021.12.07|    9|Nepomniachtchi,I|       Carlsen,M|    0-1|     2782|     2855|       null|       null|Carlsen,M|      2855|Nepomniachtchi,I|     2782|                   73|A13|2022-07-22T22:33:...| WorldChamp2021|\n",
            "|1f900d18-5ea3-4f4...|        10|WCh 2021|Dubai UAE| 2021.12.08|   10|       Carlsen,M|Nepomniachtchi,I|1/2-1/2|     2855|     2782|       null|       null|     draw|      null|            draw|     null|                    0|C42|2022-07-22T22:33:...| WorldChamp2021|\n",
            "+--------------------+----------+--------+---------+-----------+-----+----------------+----------------+-------+---------+---------+-----------+-----------+---------+----------+----------------+---------+---------------------+---+--------------------+---------------+\n",
            "only showing top 10 rows\n",
            "\n"
          ]
        }
      ],
      "source": [
        "chess_info.show(10)\n"
      ]
    },
    {
      "cell_type": "code",
      "execution_count": null,
      "metadata": {
        "id": "_V2vNIT_RA7h"
      },
      "outputs": [],
      "source": [
        "chess_in1=chess_info.withColumn(\"black_split\",split(col(\"black\"),\"[,]\"))\\\n",
        "          .withColumn(\"black1\",col(\"black_split\")[0]).drop(\"black_split\",\"black\")\n",
        "chess_info1=chess_in1.withColumn(\"white_split\",split(col(\"white\"),\"[,]\"))\\\n",
        "          .withColumn(\"white1\",col(\"white_split\")[0]).drop(\"white_split\",\"white\")"
      ]
    },
    {
      "cell_type": "code",
      "execution_count": null,
      "metadata": {
        "id": "sZvAzQabR0wi"
      },
      "outputs": [],
      "source": [
        "chess_info1=chess_info1.where(\"white_elo != 'null'\")\n",
        "chess_info1=chess_info1.where(\"black_elo != 'null'\")"
      ]
    },
    {
      "cell_type": "code",
      "execution_count": null,
      "metadata": {
        "id": "w8vOAOf7R4ds"
      },
      "outputs": [],
      "source": [
        "result7= chess_info1.groupBy(\"black1\").agg(F.avg(\"black_elo\"))\n",
        "res7 = result7.sort(\"avg(black_elo)\",ascending=False)\n",
        "\n",
        "result7l=chess_info1.groupBy(\"white1\").agg(F.avg(\"white_elo\"))\n",
        "res7l = result7l.sort(\"avg(white_elo)\",ascending=True)"
      ]
    },
    {
      "cell_type": "code",
      "execution_count": null,
      "metadata": {
        "id": "neA2O9XtTsWJ"
      },
      "outputs": [],
      "source": [
        "\n",
        "result71=res7.limit(1)\n",
        "result72=res7l.limit(1) \n",
        "\n",
        "df1=result71.withColumnRenamed(\"black1\",\"name\")\n",
        "df1=df1.withColumnRenamed(\"avg(black_elo)\",\"avg_elo\")\n",
        "\n",
        "df2=result72.withColumnRenamed(\"white1\",\"name\")\n",
        "df2=df2.withColumnRenamed(\"avg(white_elo)\",\"avg_elo\")\n",
        "\n",
        "\n",
        "result7_final= df1.unionByName(df2)"
      ]
    },
    {
      "cell_type": "code",
      "execution_count": null,
      "metadata": {
        "colab": {
          "base_uri": "https://localhost:8080/"
        },
        "id": "TqYjxjjqV_n2",
        "outputId": "38c71c0a-98d0-46f7-86c5-d004d0316a12"
      },
      "outputs": [
        {
          "output_type": "stream",
          "name": "stdout",
          "text": [
            "+-------+----------+\n",
            "|   name|   avg_elo|\n",
            "+-------+----------+\n",
            "|Carlsen|2835.40625|\n",
            "|Abulhul|    2076.0|\n",
            "+-------+----------+\n",
            "\n"
          ]
        }
      ],
      "source": [
        "result7_final.show()"
      ]
    },
    {
      "cell_type": "markdown",
      "metadata": {
        "id": "_abd0qrparv8"
      },
      "source": [
        "8. 3rd Last Player with most Loss.\n",
        "Result attributes: player_name\n",
        "Final result will have only one row"
      ]
    },
    {
      "cell_type": "code",
      "execution_count": null,
      "metadata": {
        "colab": {
          "base_uri": "https://localhost:8080/"
        },
        "id": "s2iZJbZPWCvY",
        "outputId": "21242f91-4535-4241-e6ba-145f06eca1b8"
      },
      "outputs": [
        {
          "output_type": "stream",
          "name": "stdout",
          "text": [
            "+--------------------+----------+--------+---------+-----------+-----+----------------+----------------+-------+---------+---------+-----------+-----------+---------+----------+----------------+---------+---------------------+---+--------------------+---------------+\n",
            "|             game_id|game_order|   event|     site|date_played|round|           white|           black| result|white_elo|black_elo|white_title|black_title|   winner|winner_elo|           loser|loser_elo|winner_loser_elo_diff|eco|        date_created|tournament_name|\n",
            "+--------------------+----------+--------+---------+-----------+-----+----------------+----------------+-------+---------+---------+-----------+-----------+---------+----------+----------------+---------+---------------------+---+--------------------+---------------+\n",
            "|86e0b7f5-7b94-4ae...|         1|WCh 2021|Dubai UAE| 2021.11.26|    1|Nepomniachtchi,I|       Carlsen,M|1/2-1/2|     2782|     2855|       null|       null|     draw|      null|            draw|     null|                    0|C88|2022-07-22T22:33:...| WorldChamp2021|\n",
            "|dc4a10ab-54cf-49d...|         2|WCh 2021|Dubai UAE| 2021.11.27|    2|       Carlsen,M|Nepomniachtchi,I|1/2-1/2|     2855|     2782|       null|       null|     draw|      null|            draw|     null|                    0|E06|2022-07-22T22:33:...| WorldChamp2021|\n",
            "|f042ca37-8899-488...|         3|WCh 2021|Dubai UAE| 2021.11.28|    3|Nepomniachtchi,I|       Carlsen,M|1/2-1/2|     2782|     2855|       null|       null|     draw|      null|            draw|     null|                    0|C88|2022-07-22T22:33:...| WorldChamp2021|\n",
            "|f70e4bbc-21e3-46f...|         4|WCh 2021|Dubai UAE| 2021.11.30|    4|       Carlsen,M|Nepomniachtchi,I|1/2-1/2|     2855|     2782|       null|       null|     draw|      null|            draw|     null|                    0|C42|2022-07-22T22:33:...| WorldChamp2021|\n",
            "|c941c323-308a-4c8...|         5|WCh 2021|Dubai UAE| 2021.12.01|    5|Nepomniachtchi,I|       Carlsen,M|1/2-1/2|     2782|     2855|       null|       null|     draw|      null|            draw|     null|                    0|C88|2022-07-22T22:33:...| WorldChamp2021|\n",
            "|58e83255-93bb-4d5...|         6|WCh 2021|Dubai UAE| 2021.12.03|    6|       Carlsen,M|Nepomniachtchi,I|    1-0|     2855|     2782|       null|       null|Carlsen,M|      2855|Nepomniachtchi,I|     2782|                   73|D02|2022-07-22T22:33:...| WorldChamp2021|\n",
            "|29181d93-73f4-4fb...|         7|WCh 2021|Dubai UAE| 2021.12.04|    7|Nepomniachtchi,I|       Carlsen,M|1/2-1/2|     2782|     2855|       null|       null|     draw|      null|            draw|     null|                    0|C88|2022-07-22T22:33:...| WorldChamp2021|\n",
            "|8a4ccd8c-d437-429...|         8|WCh 2021|Dubai UAE| 2021.12.05|    8|       Carlsen,M|Nepomniachtchi,I|    1-0|     2855|     2782|       null|       null|Carlsen,M|      2855|Nepomniachtchi,I|     2782|                   73|C43|2022-07-22T22:33:...| WorldChamp2021|\n",
            "|55a122db-27d1-495...|         9|WCh 2021|Dubai UAE| 2021.12.07|    9|Nepomniachtchi,I|       Carlsen,M|    0-1|     2782|     2855|       null|       null|Carlsen,M|      2855|Nepomniachtchi,I|     2782|                   73|A13|2022-07-22T22:33:...| WorldChamp2021|\n",
            "|1f900d18-5ea3-4f4...|        10|WCh 2021|Dubai UAE| 2021.12.08|   10|       Carlsen,M|Nepomniachtchi,I|1/2-1/2|     2855|     2782|       null|       null|     draw|      null|            draw|     null|                    0|C42|2022-07-22T22:33:...| WorldChamp2021|\n",
            "+--------------------+----------+--------+---------+-----------+-----+----------------+----------------+-------+---------+---------+-----------+-----------+---------+----------+----------------+---------+---------------------+---+--------------------+---------------+\n",
            "only showing top 10 rows\n",
            "\n"
          ]
        }
      ],
      "source": [
        "chess_info.show(10)"
      ]
    },
    {
      "cell_type": "code",
      "execution_count": null,
      "metadata": {
        "id": "iXFqNSgybPpm"
      },
      "outputs": [],
      "source": [
        "chess_loser=chess_info.withColumn(\"loser_split\",split(col(\"loser\"),\"[,]\"))\\\n",
        "          .withColumn(\"loser1\",col(\"loser_split\")[0]).drop(\"loser_split\",\"loser\")\n",
        "chess_loser=chess_loser.where(\"loser != 'draw'\")"
      ]
    },
    {
      "cell_type": "code",
      "execution_count": null,
      "metadata": {
        "colab": {
          "base_uri": "https://localhost:8080/"
        },
        "id": "ORKA_U5Wb7A0",
        "outputId": "71f1954c-8fca-46e1-9adc-11213c99000d"
      },
      "outputs": [
        {
          "output_type": "execute_result",
          "data": {
            "text/plain": [
              "Row(player_name='Karpov', count=38)"
            ]
          },
          "metadata": {},
          "execution_count": 53
        }
      ],
      "source": [
        "result8=chess_loser.groupBy(\"loser1\").count()\n",
        "result8=result8.sort(\"count\",ascending=False)\n",
        "result8=result8.withColumnRenamed(\"loser1\",\"player_name\")\n",
        "result8=result8.collect()[2]\n",
        "result8"
      ]
    },
    {
      "cell_type": "markdown",
      "metadata": {
        "id": "WRIeUdb6fpta"
      },
      "source": []
    },
    {
      "cell_type": "markdown",
      "metadata": {
        "id": "Bku15iwcfoEs"
      },
      "source": [
        "9. How many times players with low rating won matches with their total win Count.\n",
        "Result attributes: player_name, win_count"
      ]
    },
    {
      "cell_type": "code",
      "execution_count": null,
      "metadata": {
        "id": "ndFt98m3cTr8"
      },
      "outputs": [],
      "source": [
        "data= chess_info.where(\"winner != 'draw'\")"
      ]
    },
    {
      "cell_type": "code",
      "execution_count": null,
      "metadata": {
        "colab": {
          "base_uri": "https://localhost:8080/"
        },
        "id": "_8Pf8xY-c3Wt",
        "outputId": "d2ba908c-9b41-4464-db0e-b25ec9c5a769"
      },
      "outputs": [
        {
          "output_type": "stream",
          "name": "stdout",
          "text": [
            "+--------------------+----------+--------+------------+-----------+-----+----------------+----------------+------+---------+---------+-----------+-----------+----------------+----------+----------------+---------+---------------------+---+--------------------+---------------+\n",
            "|             game_id|game_order|   event|        site|date_played|round|           white|           black|result|white_elo|black_elo|white_title|black_title|          winner|winner_elo|           loser|loser_elo|winner_loser_elo_diff|eco|        date_created|tournament_name|\n",
            "+--------------------+----------+--------+------------+-----------+-----+----------------+----------------+------+---------+---------+-----------+-----------+----------------+----------+----------------+---------+---------------------+---+--------------------+---------------+\n",
            "|58e83255-93bb-4d5...|         6|WCh 2021|   Dubai UAE| 2021.12.03|    6|       Carlsen,M|Nepomniachtchi,I|   1-0|     2855|     2782|       null|       null|       Carlsen,M|      2855|Nepomniachtchi,I|     2782|                   73|D02|2022-07-22T22:33:...| WorldChamp2021|\n",
            "|8a4ccd8c-d437-429...|         8|WCh 2021|   Dubai UAE| 2021.12.05|    8|       Carlsen,M|Nepomniachtchi,I|   1-0|     2855|     2782|       null|       null|       Carlsen,M|      2855|Nepomniachtchi,I|     2782|                   73|C43|2022-07-22T22:33:...| WorldChamp2021|\n",
            "|55a122db-27d1-495...|         9|WCh 2021|   Dubai UAE| 2021.12.07|    9|Nepomniachtchi,I|       Carlsen,M|   0-1|     2782|     2855|       null|       null|       Carlsen,M|      2855|Nepomniachtchi,I|     2782|                   73|A13|2022-07-22T22:33:...| WorldChamp2021|\n",
            "|c512a953-a341-47c...|        11|WCh 2021|   Dubai UAE| 2021.12.10|   11|Nepomniachtchi,I|       Carlsen,M|   0-1|     2782|     2855|       null|       null|       Carlsen,M|      2855|Nepomniachtchi,I|     2782|                   73|C50|2022-07-22T22:33:...| WorldChamp2021|\n",
            "|8a49457a-7c11-436...|         8|WCh 2016|New York USA| 2016.11.21|    8| Carlsen, Magnus|Karjakin, Sergey|   0-1|     2853|     2772|         GM|         GM|Karjakin, Sergey|      2772| Carlsen, Magnus|     2853|                  -81|D05|2022-07-22T22:33:...| WorldChamp2016|\n",
            "+--------------------+----------+--------+------------+-----------+-----+----------------+----------------+------+---------+---------+-----------+-----------+----------------+----------+----------------+---------+---------------------+---+--------------------+---------------+\n",
            "only showing top 5 rows\n",
            "\n"
          ]
        }
      ],
      "source": [
        "data.show(5)"
      ]
    },
    {
      "cell_type": "code",
      "execution_count": null,
      "metadata": {
        "id": "eWPShpkjgLox"
      },
      "outputs": [],
      "source": [
        "data=data.select(\"winner\").where(\"winner_elo < loser_elo\")"
      ]
    },
    {
      "cell_type": "code",
      "execution_count": null,
      "metadata": {
        "colab": {
          "base_uri": "https://localhost:8080/"
        },
        "id": "Ijswt6idg7dm",
        "outputId": "2c8f8a3e-4bc2-4e0b-f494-8ad251be2471"
      },
      "outputs": [
        {
          "output_type": "stream",
          "name": "stdout",
          "text": [
            "+--------------------+-----+\n",
            "|              winner|count|\n",
            "+--------------------+-----+\n",
            "|     Karpov, Anatoly|   20|\n",
            "|      Kasimdzhanov,R|   11|\n",
            "|           Macieja,B|    9|\n",
            "|           Kramnik,V|    8|\n",
            "|  Kortschnoj, Viktor|    8|\n",
            "|          Grischuk,A|    7|\n",
            "|        Ponomariov,R|    7|\n",
            "|Khalifman, Alexander|    6|\n",
            "|           Ehlvest,J|    5|\n",
            "|   Akopian, Vladimir|    5|\n",
            "|      Kasparov, Gary|    5|\n",
            "|      Short, Nigel D|    5|\n",
            "|         Dominguez,L|    5|\n",
            "|           Sulskis,S|    5|\n",
            "|           Gelfand,B|    4|\n",
            "|          Nakamura,H|    4|\n",
            "| Tkachiev, Vladislav|    4|\n",
            "|            Volkov,S|    4|\n",
            "|Nisipeanu, Liviu ...|    4|\n",
            "|         Filippov,Va|    4|\n",
            "+--------------------+-----+\n",
            "only showing top 20 rows\n",
            "\n"
          ]
        }
      ],
      "source": [
        "data=data.groupBy(\"winner\").count()\n",
        "result9=data.sort(\"count\",ascending=False)\n",
        "result9.show()"
      ]
    },
    {
      "cell_type": "code",
      "execution_count": null,
      "metadata": {
        "id": "xM3P8cfzh3L_"
      },
      "outputs": [],
      "source": []
    },
    {
      "cell_type": "markdown",
      "metadata": {
        "id": "HnVEvx5ZhzBF"
      },
      "source": [
        "10. Move Sequence for Each Player in a Match.\n",
        "Result attributes: game_id, player_name, move_sequence, move_count"
      ]
    },
    {
      "cell_type": "code",
      "execution_count": null,
      "metadata": {
        "colab": {
          "base_uri": "https://localhost:8080/"
        },
        "id": "gi0vXHgJhbdw",
        "outputId": "9e14e5e7-0193-4cb4-cc0d-d511abe08e73"
      },
      "outputs": [
        {
          "output_type": "stream",
          "name": "stdout",
          "text": [
            "+--------------------+-------+------------+----------------+--------+----+-----------+---------+-----+-----+--------------------+--------+-------------+--------------+----------------------+------------+------------------------+-----------+-----------+----------------+----------------+-----------------+-----------------+------------------+------------------+------------------+------------------+----------------+----------------+------------------------+------------------------+--------------------+--------------------+--------------------+--------------------+--------------------+--------------------+--------------------+--------------------+--------------------+--------------------+--------------------+--------------------+--------------------+--------------------+--------------------+--------------------+--------------------+--------------------+--------------------+--------------------+--------------------+--------------------+--------------------+--------------------+--------------------+--------------------+--------------------+--------------------+--------------------+--------------------+--------------------+--------------------+--------------------+\n",
            "|             game_id|move_no|move_no_pair|          player|notation|move|from_square|to_square|piece|color|                 fen|is_check|is_check_mate|is_fifty_moves|is_fivefold_repetition|is_game_over|is_insufficient_material|white_count|black_count|white_pawn_count|black_pawn_count|white_queen_count|black_queen_count|white_bishop_count|black_bishop_count|white_knight_count|black_knight_count|white_rook_count|black_rook_count|captured_score_for_white|captured_score_for_black|fen_row1_white_count|fen_row2_white_count|fen_row3_white_count|fen_row4_white_count|fen_row5_white_count|fen_row6_white_count|fen_row7_white_count|fen_row8_white_count|fen_row1_white_value|fen_row2_white_value|fen_row3_white_value|fen_row4_white_value|fen_row5_white_value|fen_row6_white_value|fen_row7_white_value|fen_row8_white_value|fen_row1_black_count|fen_row2_black_count|fen_row3_black_count|fen_row4_black_count|fen_row5_black_count|fen_row6_black_count|fen_row7_black_count|fen_row8_black_count|fen_row1_black_value|fen_row2_black_value|fen_row3_black_value|fen_row4_black_value|fen_row5_black_value|fen_row6_black_value|fen_row7_black_value|fen_row8_black_value|       move_sequence|\n",
            "+--------------------+-------+------------+----------------+--------+----+-----------+---------+-----+-----+--------------------+--------+-------------+--------------+----------------------+------------+------------------------+-----------+-----------+----------------+----------------+-----------------+-----------------+------------------+------------------+------------------+------------------+----------------+----------------+------------------------+------------------------+--------------------+--------------------+--------------------+--------------------+--------------------+--------------------+--------------------+--------------------+--------------------+--------------------+--------------------+--------------------+--------------------+--------------------+--------------------+--------------------+--------------------+--------------------+--------------------+--------------------+--------------------+--------------------+--------------------+--------------------+--------------------+--------------------+--------------------+--------------------+--------------------+--------------------+--------------------+--------------------+--------------------+\n",
            "|86e0b7f5-7b94-4ae...|      1|           1|Nepomniachtchi,I|      e4|e2e4|         e2|       e4|    P|White|rnbqkbnr/pppppppp...|       0|            0|             0|                     0|           0|                       0|         16|         16|               8|               8|                1|                1|                 2|                 2|                 2|                 2|               2|               2|                       0|                       0|                   8|                   7|                   0|                   1|                   0|                   0|                   0|                   0|                  31|                   7|                   0|                   1|                   0|                   0|                   0|                   0|                   0|                   0|                   0|                   0|                   0|                   0|                   8|                   8|                   0|                   0|                   0|                   0|                   0|                   0|                   8|                  31|                  e4|\n",
            "|86e0b7f5-7b94-4ae...|      2|           1|       Carlsen,M|      e5|e7e5|         e7|       e5|    P|Black|rnbqkbnr/pppp1ppp...|       0|            0|             0|                     0|           0|                       0|         16|         16|               8|               8|                1|                1|                 2|                 2|                 2|                 2|               2|               2|                       0|                       0|                   8|                   7|                   0|                   1|                   0|                   0|                   0|                   0|                  31|                   7|                   0|                   1|                   0|                   0|                   0|                   0|                   0|                   0|                   0|                   0|                   1|                   0|                   7|                   8|                   0|                   0|                   0|                   0|                   1|                   0|                   7|                  31|               e4|e5|\n",
            "|86e0b7f5-7b94-4ae...|      3|           2|Nepomniachtchi,I|     Nf3|g1f3|         g1|       f3|    N|White|rnbqkbnr/pppp1ppp...|       0|            0|             0|                     0|           0|                       0|         16|         16|               8|               8|                1|                1|                 2|                 2|                 2|                 2|               2|               2|                       0|                       0|                   7|                   7|                   1|                   1|                   0|                   0|                   0|                   0|                  28|                   7|                   3|                   1|                   0|                   0|                   0|                   0|                   0|                   0|                   0|                   0|                   1|                   0|                   7|                   8|                   0|                   0|                   0|                   0|                   1|                   0|                   7|                  31|           e4|e5|Nf3|\n",
            "|86e0b7f5-7b94-4ae...|      4|           2|       Carlsen,M|     Nc6|b8c6|         b8|       c6|    N|Black|r1bqkbnr/pppp1ppp...|       0|            0|             0|                     0|           0|                       0|         16|         16|               8|               8|                1|                1|                 2|                 2|                 2|                 2|               2|               2|                       0|                       0|                   7|                   7|                   1|                   1|                   0|                   0|                   0|                   0|                  28|                   7|                   3|                   1|                   0|                   0|                   0|                   0|                   0|                   0|                   0|                   0|                   1|                   1|                   7|                   7|                   0|                   0|                   0|                   0|                   1|                   3|                   7|                  28|       e4|e5|Nf3|Nc6|\n",
            "|86e0b7f5-7b94-4ae...|      5|           3|Nepomniachtchi,I|     Bb5|f1b5|         f1|       b5|    B|White|r1bqkbnr/pppp1ppp...|       0|            0|             0|                     0|           0|                       0|         16|         16|               8|               8|                1|                1|                 2|                 2|                 2|                 2|               2|               2|                       0|                       0|                   6|                   7|                   1|                   1|                   1|                   0|                   0|                   0|                  25|                   7|                   3|                   1|                   3|                   0|                   0|                   0|                   0|                   0|                   0|                   0|                   1|                   1|                   7|                   7|                   0|                   0|                   0|                   0|                   1|                   3|                   7|                  28|   e4|e5|Nf3|Nc6|Bb5|\n",
            "|86e0b7f5-7b94-4ae...|      6|           3|       Carlsen,M|      a6|a7a6|         a7|       a6|    P|Black|r1bqkbnr/1ppp1ppp...|       0|            0|             0|                     0|           0|                       0|         16|         16|               8|               8|                1|                1|                 2|                 2|                 2|                 2|               2|               2|                       0|                       0|                   6|                   7|                   1|                   1|                   1|                   0|                   0|                   0|                  25|                   7|                   3|                   1|                   3|                   0|                   0|                   0|                   0|                   0|                   0|                   0|                   1|                   2|                   6|                   7|                   0|                   0|                   0|                   0|                   1|                   4|                   6|                  28|e4|e5|Nf3|Nc6|Bb5|a6|\n",
            "|86e0b7f5-7b94-4ae...|      7|           4|Nepomniachtchi,I|     Ba4|b5a4|         b5|       a4|    B|White|r1bqkbnr/1ppp1ppp...|       0|            0|             0|                     0|           0|                       0|         16|         16|               8|               8|                1|                1|                 2|                 2|                 2|                 2|               2|               2|                       0|                       0|                   6|                   7|                   1|                   2|                   0|                   0|                   0|                   0|                  25|                   7|                   3|                   4|                   0|                   0|                   0|                   0|                   0|                   0|                   0|                   0|                   1|                   2|                   6|                   7|                   0|                   0|                   0|                   0|                   1|                   4|                   6|                  28|e4|e5|Nf3|Nc6|Bb5...|\n",
            "|86e0b7f5-7b94-4ae...|      8|           4|       Carlsen,M|     Nf6|g8f6|         g8|       f6|    N|Black|r1bqkb1r/1ppp1ppp...|       0|            0|             0|                     0|           0|                       0|         16|         16|               8|               8|                1|                1|                 2|                 2|                 2|                 2|               2|               2|                       0|                       0|                   6|                   7|                   1|                   2|                   0|                   0|                   0|                   0|                  25|                   7|                   3|                   4|                   0|                   0|                   0|                   0|                   0|                   0|                   0|                   0|                   1|                   3|                   6|                   6|                   0|                   0|                   0|                   0|                   1|                   7|                   6|                  25|e4|e5|Nf3|Nc6|Bb5...|\n",
            "|86e0b7f5-7b94-4ae...|      9|           5|Nepomniachtchi,I|     O-O|e1g1|         e1|       g1|    K|White|r1bqkb1r/1ppp1ppp...|       0|            0|             0|                     0|           0|                       0|         16|         16|               8|               8|                1|                1|                 2|                 2|                 2|                 2|               2|               2|                       0|                       0|                   6|                   7|                   1|                   2|                   0|                   0|                   0|                   0|                  25|                   7|                   3|                   4|                   0|                   0|                   0|                   0|                   0|                   0|                   0|                   0|                   1|                   3|                   6|                   6|                   0|                   0|                   0|                   0|                   1|                   7|                   6|                  25|e4|e5|Nf3|Nc6|Bb5...|\n",
            "|86e0b7f5-7b94-4ae...|     10|           5|       Carlsen,M|     Be7|f8e7|         f8|       e7|    B|Black|r1bqk2r/1pppbppp/...|       0|            0|             0|                     0|           0|                       0|         16|         16|               8|               8|                1|                1|                 2|                 2|                 2|                 2|               2|               2|                       0|                       0|                   6|                   7|                   1|                   2|                   0|                   0|                   0|                   0|                  25|                   7|                   3|                   4|                   0|                   0|                   0|                   0|                   0|                   0|                   0|                   0|                   1|                   3|                   7|                   5|                   0|                   0|                   0|                   0|                   1|                   7|                   9|                  22|e4|e5|Nf3|Nc6|Bb5...|\n",
            "+--------------------+-------+------------+----------------+--------+----+-----------+---------+-----+-----+--------------------+--------+-------------+--------------+----------------------+------------+------------------------+-----------+-----------+----------------+----------------+-----------------+-----------------+------------------+------------------+------------------+------------------+----------------+----------------+------------------------+------------------------+--------------------+--------------------+--------------------+--------------------+--------------------+--------------------+--------------------+--------------------+--------------------+--------------------+--------------------+--------------------+--------------------+--------------------+--------------------+--------------------+--------------------+--------------------+--------------------+--------------------+--------------------+--------------------+--------------------+--------------------+--------------------+--------------------+--------------------+--------------------+--------------------+--------------------+--------------------+--------------------+--------------------+\n",
            "only showing top 10 rows\n",
            "\n"
          ]
        }
      ],
      "source": [
        "chess_moves.show(10)"
      ]
    },
    {
      "cell_type": "code",
      "execution_count": null,
      "metadata": {
        "id": "Ln0_kGLYm_nU"
      },
      "outputs": [],
      "source": [
        "from pyspark.sql.functions import split, reverse\n",
        "chess_move1=chess_moves.withColumn(\"move_sequence_split\",split(col(\"move_sequence\"),\"[|]\"))\\\n",
        "          .withColumn(\"last_move_sequence\",reverse(col(\"move_sequence_split\"))[0]).drop(\"move_sequence_split\",\"move_sequence\")"
      ]
    },
    {
      "cell_type": "code",
      "execution_count": null,
      "metadata": {
        "colab": {
          "base_uri": "https://localhost:8080/"
        },
        "id": "uEU7xiFjnGUx",
        "outputId": "4cd81398-dc96-4cc2-8609-161eb3bf8fb2"
      },
      "outputs": [
        {
          "output_type": "stream",
          "name": "stdout",
          "text": [
            "+--------------------+-------+------------+----------------+--------+----+-----------+---------+-----+-----+--------------------+--------+-------------+--------------+----------------------+------------+------------------------+-----------+-----------+----------------+----------------+-----------------+-----------------+------------------+------------------+------------------+------------------+----------------+----------------+------------------------+------------------------+--------------------+--------------------+--------------------+--------------------+--------------------+--------------------+--------------------+--------------------+--------------------+--------------------+--------------------+--------------------+--------------------+--------------------+--------------------+--------------------+--------------------+--------------------+--------------------+--------------------+--------------------+--------------------+--------------------+--------------------+--------------------+--------------------+--------------------+--------------------+--------------------+--------------------+--------------------+--------------------+------------------+\n",
            "|             game_id|move_no|move_no_pair|          player|notation|move|from_square|to_square|piece|color|                 fen|is_check|is_check_mate|is_fifty_moves|is_fivefold_repetition|is_game_over|is_insufficient_material|white_count|black_count|white_pawn_count|black_pawn_count|white_queen_count|black_queen_count|white_bishop_count|black_bishop_count|white_knight_count|black_knight_count|white_rook_count|black_rook_count|captured_score_for_white|captured_score_for_black|fen_row1_white_count|fen_row2_white_count|fen_row3_white_count|fen_row4_white_count|fen_row5_white_count|fen_row6_white_count|fen_row7_white_count|fen_row8_white_count|fen_row1_white_value|fen_row2_white_value|fen_row3_white_value|fen_row4_white_value|fen_row5_white_value|fen_row6_white_value|fen_row7_white_value|fen_row8_white_value|fen_row1_black_count|fen_row2_black_count|fen_row3_black_count|fen_row4_black_count|fen_row5_black_count|fen_row6_black_count|fen_row7_black_count|fen_row8_black_count|fen_row1_black_value|fen_row2_black_value|fen_row3_black_value|fen_row4_black_value|fen_row5_black_value|fen_row6_black_value|fen_row7_black_value|fen_row8_black_value|last_move_sequence|\n",
            "+--------------------+-------+------------+----------------+--------+----+-----------+---------+-----+-----+--------------------+--------+-------------+--------------+----------------------+------------+------------------------+-----------+-----------+----------------+----------------+-----------------+-----------------+------------------+------------------+------------------+------------------+----------------+----------------+------------------------+------------------------+--------------------+--------------------+--------------------+--------------------+--------------------+--------------------+--------------------+--------------------+--------------------+--------------------+--------------------+--------------------+--------------------+--------------------+--------------------+--------------------+--------------------+--------------------+--------------------+--------------------+--------------------+--------------------+--------------------+--------------------+--------------------+--------------------+--------------------+--------------------+--------------------+--------------------+--------------------+--------------------+------------------+\n",
            "|86e0b7f5-7b94-4ae...|      1|           1|Nepomniachtchi,I|      e4|e2e4|         e2|       e4|    P|White|rnbqkbnr/pppppppp...|       0|            0|             0|                     0|           0|                       0|         16|         16|               8|               8|                1|                1|                 2|                 2|                 2|                 2|               2|               2|                       0|                       0|                   8|                   7|                   0|                   1|                   0|                   0|                   0|                   0|                  31|                   7|                   0|                   1|                   0|                   0|                   0|                   0|                   0|                   0|                   0|                   0|                   0|                   0|                   8|                   8|                   0|                   0|                   0|                   0|                   0|                   0|                   8|                  31|                e4|\n",
            "|86e0b7f5-7b94-4ae...|      2|           1|       Carlsen,M|      e5|e7e5|         e7|       e5|    P|Black|rnbqkbnr/pppp1ppp...|       0|            0|             0|                     0|           0|                       0|         16|         16|               8|               8|                1|                1|                 2|                 2|                 2|                 2|               2|               2|                       0|                       0|                   8|                   7|                   0|                   1|                   0|                   0|                   0|                   0|                  31|                   7|                   0|                   1|                   0|                   0|                   0|                   0|                   0|                   0|                   0|                   0|                   1|                   0|                   7|                   8|                   0|                   0|                   0|                   0|                   1|                   0|                   7|                  31|                e5|\n",
            "|86e0b7f5-7b94-4ae...|      3|           2|Nepomniachtchi,I|     Nf3|g1f3|         g1|       f3|    N|White|rnbqkbnr/pppp1ppp...|       0|            0|             0|                     0|           0|                       0|         16|         16|               8|               8|                1|                1|                 2|                 2|                 2|                 2|               2|               2|                       0|                       0|                   7|                   7|                   1|                   1|                   0|                   0|                   0|                   0|                  28|                   7|                   3|                   1|                   0|                   0|                   0|                   0|                   0|                   0|                   0|                   0|                   1|                   0|                   7|                   8|                   0|                   0|                   0|                   0|                   1|                   0|                   7|                  31|               Nf3|\n",
            "|86e0b7f5-7b94-4ae...|      4|           2|       Carlsen,M|     Nc6|b8c6|         b8|       c6|    N|Black|r1bqkbnr/pppp1ppp...|       0|            0|             0|                     0|           0|                       0|         16|         16|               8|               8|                1|                1|                 2|                 2|                 2|                 2|               2|               2|                       0|                       0|                   7|                   7|                   1|                   1|                   0|                   0|                   0|                   0|                  28|                   7|                   3|                   1|                   0|                   0|                   0|                   0|                   0|                   0|                   0|                   0|                   1|                   1|                   7|                   7|                   0|                   0|                   0|                   0|                   1|                   3|                   7|                  28|               Nc6|\n",
            "|86e0b7f5-7b94-4ae...|      5|           3|Nepomniachtchi,I|     Bb5|f1b5|         f1|       b5|    B|White|r1bqkbnr/pppp1ppp...|       0|            0|             0|                     0|           0|                       0|         16|         16|               8|               8|                1|                1|                 2|                 2|                 2|                 2|               2|               2|                       0|                       0|                   6|                   7|                   1|                   1|                   1|                   0|                   0|                   0|                  25|                   7|                   3|                   1|                   3|                   0|                   0|                   0|                   0|                   0|                   0|                   0|                   1|                   1|                   7|                   7|                   0|                   0|                   0|                   0|                   1|                   3|                   7|                  28|               Bb5|\n",
            "|86e0b7f5-7b94-4ae...|      6|           3|       Carlsen,M|      a6|a7a6|         a7|       a6|    P|Black|r1bqkbnr/1ppp1ppp...|       0|            0|             0|                     0|           0|                       0|         16|         16|               8|               8|                1|                1|                 2|                 2|                 2|                 2|               2|               2|                       0|                       0|                   6|                   7|                   1|                   1|                   1|                   0|                   0|                   0|                  25|                   7|                   3|                   1|                   3|                   0|                   0|                   0|                   0|                   0|                   0|                   0|                   1|                   2|                   6|                   7|                   0|                   0|                   0|                   0|                   1|                   4|                   6|                  28|                a6|\n",
            "+--------------------+-------+------------+----------------+--------+----+-----------+---------+-----+-----+--------------------+--------+-------------+--------------+----------------------+------------+------------------------+-----------+-----------+----------------+----------------+-----------------+-----------------+------------------+------------------+------------------+------------------+----------------+----------------+------------------------+------------------------+--------------------+--------------------+--------------------+--------------------+--------------------+--------------------+--------------------+--------------------+--------------------+--------------------+--------------------+--------------------+--------------------+--------------------+--------------------+--------------------+--------------------+--------------------+--------------------+--------------------+--------------------+--------------------+--------------------+--------------------+--------------------+--------------------+--------------------+--------------------+--------------------+--------------------+--------------------+--------------------+------------------+\n",
            "only showing top 6 rows\n",
            "\n"
          ]
        }
      ],
      "source": [
        "chess_move1.show(6)"
      ]
    },
    {
      "cell_type": "code",
      "execution_count": null,
      "metadata": {
        "id": "ao9QiBqznREj"
      },
      "outputs": [],
      "source": [
        "result10=chess_move1.select(\"game_id\",\"player\",\"last_move_sequence\",\"move_no\")"
      ]
    },
    {
      "cell_type": "code",
      "execution_count": null,
      "metadata": {
        "colab": {
          "base_uri": "https://localhost:8080/"
        },
        "id": "2JyVgQFVrli_",
        "outputId": "29884dd6-2b71-4548-a442-99dd62f3e86e"
      },
      "outputs": [
        {
          "output_type": "stream",
          "name": "stdout",
          "text": [
            "+--------------------+----------------+------------------+-------+\n",
            "|             game_id|          player|last_move_sequence|move_no|\n",
            "+--------------------+----------------+------------------+-------+\n",
            "|86e0b7f5-7b94-4ae...|Nepomniachtchi,I|                e4|      1|\n",
            "|86e0b7f5-7b94-4ae...|       Carlsen,M|                e5|      2|\n",
            "|86e0b7f5-7b94-4ae...|Nepomniachtchi,I|               Nf3|      3|\n",
            "|86e0b7f5-7b94-4ae...|       Carlsen,M|               Nc6|      4|\n",
            "|86e0b7f5-7b94-4ae...|Nepomniachtchi,I|               Bb5|      5|\n",
            "+--------------------+----------------+------------------+-------+\n",
            "only showing top 5 rows\n",
            "\n"
          ]
        }
      ],
      "source": [
        "result10.show(5)"
      ]
    },
    {
      "cell_type": "code",
      "execution_count": null,
      "metadata": {
        "id": "wL5Q20WRlf9e"
      },
      "outputs": [],
      "source": []
    },
    {
      "cell_type": "markdown",
      "metadata": {
        "id": "xWroRDRQkKF2"
      },
      "source": [
        "11. Total Number of games where losing player has more Captured score than Winning player.\n",
        "Hint: Captured score is cumulative, i.e., for 3rd capture it will have score for 1, 2, and 3rd.\n",
        "Result attributes: total_number_of_games Final result will have only one row"
      ]
    },
    {
      "cell_type": "code",
      "execution_count": null,
      "metadata": {
        "colab": {
          "base_uri": "https://localhost:8080/"
        },
        "id": "EQ8kdx_NidRV",
        "outputId": "dc83abad-73a6-48f2-882d-2dcadc8c600b"
      },
      "outputs": [
        {
          "output_type": "stream",
          "name": "stdout",
          "text": [
            "+--------------------+----------+--------+---------+-----------+-----+----------------+----------------+-------+---------+---------+-----------+-----------+---------+----------+----------------+---------+---------------------+---+--------------------+---------------+\n",
            "|             game_id|game_order|   event|     site|date_played|round|           white|           black| result|white_elo|black_elo|white_title|black_title|   winner|winner_elo|           loser|loser_elo|winner_loser_elo_diff|eco|        date_created|tournament_name|\n",
            "+--------------------+----------+--------+---------+-----------+-----+----------------+----------------+-------+---------+---------+-----------+-----------+---------+----------+----------------+---------+---------------------+---+--------------------+---------------+\n",
            "|86e0b7f5-7b94-4ae...|         1|WCh 2021|Dubai UAE| 2021.11.26|    1|Nepomniachtchi,I|       Carlsen,M|1/2-1/2|     2782|     2855|       null|       null|     draw|      null|            draw|     null|                    0|C88|2022-07-22T22:33:...| WorldChamp2021|\n",
            "|dc4a10ab-54cf-49d...|         2|WCh 2021|Dubai UAE| 2021.11.27|    2|       Carlsen,M|Nepomniachtchi,I|1/2-1/2|     2855|     2782|       null|       null|     draw|      null|            draw|     null|                    0|E06|2022-07-22T22:33:...| WorldChamp2021|\n",
            "|f042ca37-8899-488...|         3|WCh 2021|Dubai UAE| 2021.11.28|    3|Nepomniachtchi,I|       Carlsen,M|1/2-1/2|     2782|     2855|       null|       null|     draw|      null|            draw|     null|                    0|C88|2022-07-22T22:33:...| WorldChamp2021|\n",
            "|f70e4bbc-21e3-46f...|         4|WCh 2021|Dubai UAE| 2021.11.30|    4|       Carlsen,M|Nepomniachtchi,I|1/2-1/2|     2855|     2782|       null|       null|     draw|      null|            draw|     null|                    0|C42|2022-07-22T22:33:...| WorldChamp2021|\n",
            "|c941c323-308a-4c8...|         5|WCh 2021|Dubai UAE| 2021.12.01|    5|Nepomniachtchi,I|       Carlsen,M|1/2-1/2|     2782|     2855|       null|       null|     draw|      null|            draw|     null|                    0|C88|2022-07-22T22:33:...| WorldChamp2021|\n",
            "|58e83255-93bb-4d5...|         6|WCh 2021|Dubai UAE| 2021.12.03|    6|       Carlsen,M|Nepomniachtchi,I|    1-0|     2855|     2782|       null|       null|Carlsen,M|      2855|Nepomniachtchi,I|     2782|                   73|D02|2022-07-22T22:33:...| WorldChamp2021|\n",
            "+--------------------+----------+--------+---------+-----------+-----+----------------+----------------+-------+---------+---------+-----------+-----------+---------+----------+----------------+---------+---------------------+---+--------------------+---------------+\n",
            "only showing top 6 rows\n",
            "\n"
          ]
        }
      ],
      "source": [
        "chess_info.show(6)"
      ]
    },
    {
      "cell_type": "code",
      "source": [
        "#converting white and black column to only first name\n",
        "df_info=chess_info.withColumn(\"black_split\",split(col(\"black\"),\"[,]\"))\\\n",
        "          .withColumn(\"black1\",col(\"black_split\")[0]).drop(\"black_split\",\"black\")\n",
        "df_info=df_info.withColumn(\"white_split\",split(col(\"white\"),\"[,]\"))\\\n",
        "          .withColumn(\"white1\",col(\"white_split\")[0]).drop(\"white_split\",\"white\")"
      ],
      "metadata": {
        "id": "qp3jFzJJEA1d"
      },
      "execution_count": null,
      "outputs": []
    },
    {
      "cell_type": "code",
      "source": [
        "df_info.show(5)\n"
      ],
      "metadata": {
        "colab": {
          "base_uri": "https://localhost:8080/"
        },
        "id": "tY9bU0KuCDJ4",
        "outputId": "02c4c3f0-0c79-4f20-b611-74bce1efdb8e"
      },
      "execution_count": null,
      "outputs": [
        {
          "output_type": "stream",
          "name": "stdout",
          "text": [
            "+--------------------+----------+--------+---------+-----------+-----+-------+---------+---------+-----------+-----------+------+----------+-----+---------+---------------------+---+--------------------+---------------+--------------+--------------+\n",
            "|             game_id|game_order|   event|     site|date_played|round| result|white_elo|black_elo|white_title|black_title|winner|winner_elo|loser|loser_elo|winner_loser_elo_diff|eco|        date_created|tournament_name|        black1|        white1|\n",
            "+--------------------+----------+--------+---------+-----------+-----+-------+---------+---------+-----------+-----------+------+----------+-----+---------+---------------------+---+--------------------+---------------+--------------+--------------+\n",
            "|86e0b7f5-7b94-4ae...|         1|WCh 2021|Dubai UAE| 2021.11.26|    1|1/2-1/2|     2782|     2855|       null|       null|  draw|      null| draw|     null|                    0|C88|2022-07-22T22:33:...| WorldChamp2021|       Carlsen|Nepomniachtchi|\n",
            "|dc4a10ab-54cf-49d...|         2|WCh 2021|Dubai UAE| 2021.11.27|    2|1/2-1/2|     2855|     2782|       null|       null|  draw|      null| draw|     null|                    0|E06|2022-07-22T22:33:...| WorldChamp2021|Nepomniachtchi|       Carlsen|\n",
            "|f042ca37-8899-488...|         3|WCh 2021|Dubai UAE| 2021.11.28|    3|1/2-1/2|     2782|     2855|       null|       null|  draw|      null| draw|     null|                    0|C88|2022-07-22T22:33:...| WorldChamp2021|       Carlsen|Nepomniachtchi|\n",
            "|f70e4bbc-21e3-46f...|         4|WCh 2021|Dubai UAE| 2021.11.30|    4|1/2-1/2|     2855|     2782|       null|       null|  draw|      null| draw|     null|                    0|C42|2022-07-22T22:33:...| WorldChamp2021|Nepomniachtchi|       Carlsen|\n",
            "|c941c323-308a-4c8...|         5|WCh 2021|Dubai UAE| 2021.12.01|    5|1/2-1/2|     2782|     2855|       null|       null|  draw|      null| draw|     null|                    0|C88|2022-07-22T22:33:...| WorldChamp2021|       Carlsen|Nepomniachtchi|\n",
            "+--------------------+----------+--------+---------+-----------+-----+-------+---------+---------+-----------+-----------+------+----------+-----+---------+---------------------+---+--------------------+---------------+--------------+--------------+\n",
            "only showing top 5 rows\n",
            "\n"
          ]
        }
      ]
    },
    {
      "cell_type": "code",
      "execution_count": null,
      "metadata": {
        "colab": {
          "base_uri": "https://localhost:8080/"
        },
        "id": "vi3oZSgikWVW",
        "outputId": "e02541c6-ac72-41a1-b48f-7d344a7beb53"
      },
      "outputs": [
        {
          "output_type": "stream",
          "name": "stdout",
          "text": [
            "+--------------------+----------+-------------+---------+-----------+-----+------+---------+---------+-----------+-----------+--------------------+----------+-----------------+---------+---------------------+---+--------------------+---------------+---------+---------+------------------+-----------------+\n",
            "|             game_id|game_order|        event|     site|date_played|round|result|white_elo|black_elo|white_title|black_title|              winner|winner_elo|            loser|loser_elo|winner_loser_elo_diff|eco|        date_created|tournament_name|   black1|   white1|winner_elo_cum_sum|loser_elo_cum_sum|\n",
            "+--------------------+----------+-------------+---------+-----------+-----+------+---------+---------+-----------+-----------+--------------------+----------+-----------------+---------+---------------------+---+--------------------+---------------+---------+---------+------------------+-----------------+\n",
            "|5524a0a5-b159-4fc...|       122|FIDE-Wch k.o.|Las Vegas| 1999.08.03|  2.1|   0-1|     2520|     2618|       null|       null|Beliavsky, Alexan...|      2618|Hamdouchi, Hichem|     2520|                   98|B07|2022-07-22T22:34:...|  FideChamp1999|Beliavsky|Hamdouchi|            2618.0|           2520.0|\n",
            "|ad01a244-89dd-4e4...|        16|FIDE-Wch k.o.|Groningen| 1997.12.09|  1.1|   1-0|     2615|     2535|       null|       null|Malaniuk, Vladimir P|      2615|Hamdouchi, Hichem|     2535|                   80|A03|2022-07-22T22:35:...|  FideChamp1998|Hamdouchi| Malaniuk|            2615.0|           5055.0|\n",
            "|70c6c83e-d017-4db...|        57|FIDE-Wch k.o.|Groningen| 1997.12.10|  1.2|   0-1|     2535|     2615|       null|       null|Malaniuk, Vladimir P|      2615|Hamdouchi, Hichem|     2535|                   80|C76|2022-07-22T22:35:...|  FideChamp1998| Malaniuk|Hamdouchi|            5230.0|           7590.0|\n",
            "|cbbf1122-97f5-49c...|       174|FIDE-Wch k.o.|Groningen| 1997.12.13|  2.4|   1-0|     2670|     2615|       null|       null|     Georgiev, Kiril|      2670|  Alterman, Boris|     2615|                   55|C24|2022-07-22T22:35:...|  FideChamp1998| Alterman| Georgiev|           10620.0|           2615.0|\n",
            "|6eeda7e0-87e2-403...|       110|FIDE-Wch k.o.|Las Vegas| 1999.08.03|  2.1|   1-0|     2675|     2526|       null|       null|      Short, Nigel D|      2675|  Fridman, Daniel|     2526|                  149|C55|2022-07-22T22:34:...|  FideChamp1999|  Fridman|    Short|            2675.0|           2526.0|\n",
            "+--------------------+----------+-------------+---------+-----------+-----+------+---------+---------+-----------+-----------+--------------------+----------+-----------------+---------+---------------------+---+--------------------+---------------+---------+---------+------------------+-----------------+\n",
            "only showing top 5 rows\n",
            "\n"
          ]
        }
      ],
      "source": [
        "import sys \n",
        "from pyspark.sql.window import Window \n",
        "import pyspark.sql.functions as F \n",
        "df_info111=df_info.where(\"winner != 'draw'\")\n",
        "\n",
        "cum_sum_df = df_info111.withColumn('winner_elo_cum_sum',F.sum(df_info111.winner_elo).over(Window.partitionBy(\"winner\").orderBy().rowsBetween(-sys.maxsize,0)))\n",
        "cum_sum_df =cum_sum_df.withColumn('loser_elo_cum_sum',F.sum(cum_sum_df.loser_elo).over(Window.partitionBy(\"loser\").orderBy().rowsBetween(-sys.maxsize,0)))\n",
        "cum_sum_df.show(5)"
      ]
    },
    {
      "cell_type": "code",
      "source": [
        "df_11=cum_sum_df.where(\"loser_elo_cum_sum > winner_elo_cum_sum\")\n",
        "result_11=df_11.count()\n",
        "result_11"
      ],
      "metadata": {
        "colab": {
          "base_uri": "https://localhost:8080/"
        },
        "id": "xd1jrImnF8VE",
        "outputId": "a19fe59e-721d-4a3b-aca7-404348d555b1"
      },
      "execution_count": null,
      "outputs": [
        {
          "output_type": "execute_result",
          "data": {
            "text/plain": [
              "321"
            ]
          },
          "metadata": {},
          "execution_count": 67
        }
      ]
    },
    {
      "cell_type": "markdown",
      "metadata": {
        "id": "i2A0_9cNsohz"
      },
      "source": [
        "12. List All Perfect Tournament with Winner Name.\n",
        "Chess Funda: Perfect Tournament means a player has won all the matches excluding draw matches. e.g Player A has won 5 matches out of 7\n",
        "Matches in tournament where 2 matches are draw and player B has won 0 matches)\n",
        "Result attributes: winner_name, tournament_name"
      ]
    },
    {
      "cell_type": "code",
      "execution_count": null,
      "metadata": {
        "colab": {
          "base_uri": "https://localhost:8080/"
        },
        "id": "BonfYt0WsnxG",
        "outputId": "94703da8-2300-4a50-83f3-27274e5f8148"
      },
      "outputs": [
        {
          "output_type": "stream",
          "name": "stdout",
          "text": [
            "+--------------------+----------+--------+---------+-----------+-----+----------------+----------------+-------+---------+---------+-----------+-----------+------+----------+-----+---------+---------------------+---+--------------------+---------------+\n",
            "|             game_id|game_order|   event|     site|date_played|round|           white|           black| result|white_elo|black_elo|white_title|black_title|winner|winner_elo|loser|loser_elo|winner_loser_elo_diff|eco|        date_created|tournament_name|\n",
            "+--------------------+----------+--------+---------+-----------+-----+----------------+----------------+-------+---------+---------+-----------+-----------+------+----------+-----+---------+---------------------+---+--------------------+---------------+\n",
            "|86e0b7f5-7b94-4ae...|         1|WCh 2021|Dubai UAE| 2021.11.26|    1|Nepomniachtchi,I|       Carlsen,M|1/2-1/2|     2782|     2855|       null|       null|  draw|      null| draw|     null|                    0|C88|2022-07-22T22:33:...| WorldChamp2021|\n",
            "|dc4a10ab-54cf-49d...|         2|WCh 2021|Dubai UAE| 2021.11.27|    2|       Carlsen,M|Nepomniachtchi,I|1/2-1/2|     2855|     2782|       null|       null|  draw|      null| draw|     null|                    0|E06|2022-07-22T22:33:...| WorldChamp2021|\n",
            "|f042ca37-8899-488...|         3|WCh 2021|Dubai UAE| 2021.11.28|    3|Nepomniachtchi,I|       Carlsen,M|1/2-1/2|     2782|     2855|       null|       null|  draw|      null| draw|     null|                    0|C88|2022-07-22T22:33:...| WorldChamp2021|\n",
            "|f70e4bbc-21e3-46f...|         4|WCh 2021|Dubai UAE| 2021.11.30|    4|       Carlsen,M|Nepomniachtchi,I|1/2-1/2|     2855|     2782|       null|       null|  draw|      null| draw|     null|                    0|C42|2022-07-22T22:33:...| WorldChamp2021|\n",
            "|c941c323-308a-4c8...|         5|WCh 2021|Dubai UAE| 2021.12.01|    5|Nepomniachtchi,I|       Carlsen,M|1/2-1/2|     2782|     2855|       null|       null|  draw|      null| draw|     null|                    0|C88|2022-07-22T22:33:...| WorldChamp2021|\n",
            "+--------------------+----------+--------+---------+-----------+-----+----------------+----------------+-------+---------+---------+-----------+-----------+------+----------+-----+---------+---------------------+---+--------------------+---------------+\n",
            "only showing top 5 rows\n",
            "\n"
          ]
        }
      ],
      "source": [
        "chess_info.show(5)"
      ]
    },
    {
      "cell_type": "code",
      "execution_count": null,
      "metadata": {
        "id": "yyEf1h6HsqYj"
      },
      "outputs": [],
      "source": [
        "prft=chess_info.withColumn(\"result_split\",split(col(\"result\"),\"[-]\"))\\\n",
        "          .withColumn(\"resultw\",col(\"result_split\")[0]).drop(\"result_split\")\n",
        "\n",
        "prft=prft.withColumn(\"result_split\",split(col(\"result\"),\"[-]\"))\\\n",
        "          .withColumn(\"resultb\",col(\"result_split\")[1]).drop(\"result_split\",\"result\")"
      ]
    },
    {
      "cell_type": "code",
      "execution_count": null,
      "metadata": {
        "id": "NCCR03Rw5SJ8"
      },
      "outputs": [],
      "source": [
        "prft=prft.where(\"winner != 'draw'\")"
      ]
    },
    {
      "cell_type": "code",
      "execution_count": null,
      "metadata": {
        "colab": {
          "base_uri": "https://localhost:8080/"
        },
        "id": "QKKHt7iy5nme",
        "outputId": "a5eb60c6-46b9-4fa5-abab-7a737960a2ae"
      },
      "outputs": [
        {
          "output_type": "stream",
          "name": "stdout",
          "text": [
            "+--------------------+----------+--------+------------+-----------+-----+----------------+----------------+---------+---------+-----------+-----------+----------------+----------+----------------+---------+---------------------+---+--------------------+---------------+-------+-------+\n",
            "|             game_id|game_order|   event|        site|date_played|round|           white|           black|white_elo|black_elo|white_title|black_title|          winner|winner_elo|           loser|loser_elo|winner_loser_elo_diff|eco|        date_created|tournament_name|resultw|resultb|\n",
            "+--------------------+----------+--------+------------+-----------+-----+----------------+----------------+---------+---------+-----------+-----------+----------------+----------+----------------+---------+---------------------+---+--------------------+---------------+-------+-------+\n",
            "|58e83255-93bb-4d5...|         6|WCh 2021|   Dubai UAE| 2021.12.03|    6|       Carlsen,M|Nepomniachtchi,I|     2855|     2782|       null|       null|       Carlsen,M|      2855|Nepomniachtchi,I|     2782|                   73|D02|2022-07-22T22:33:...| WorldChamp2021|      1|      0|\n",
            "|8a4ccd8c-d437-429...|         8|WCh 2021|   Dubai UAE| 2021.12.05|    8|       Carlsen,M|Nepomniachtchi,I|     2855|     2782|       null|       null|       Carlsen,M|      2855|Nepomniachtchi,I|     2782|                   73|C43|2022-07-22T22:33:...| WorldChamp2021|      1|      0|\n",
            "|55a122db-27d1-495...|         9|WCh 2021|   Dubai UAE| 2021.12.07|    9|Nepomniachtchi,I|       Carlsen,M|     2782|     2855|       null|       null|       Carlsen,M|      2855|Nepomniachtchi,I|     2782|                   73|A13|2022-07-22T22:33:...| WorldChamp2021|      0|      1|\n",
            "|c512a953-a341-47c...|        11|WCh 2021|   Dubai UAE| 2021.12.10|   11|Nepomniachtchi,I|       Carlsen,M|     2782|     2855|       null|       null|       Carlsen,M|      2855|Nepomniachtchi,I|     2782|                   73|C50|2022-07-22T22:33:...| WorldChamp2021|      0|      1|\n",
            "|8a49457a-7c11-436...|         8|WCh 2016|New York USA| 2016.11.21|    8| Carlsen, Magnus|Karjakin, Sergey|     2853|     2772|         GM|         GM|Karjakin, Sergey|      2772| Carlsen, Magnus|     2853|                  -81|D05|2022-07-22T22:33:...| WorldChamp2016|      0|      1|\n",
            "+--------------------+----------+--------+------------+-----------+-----+----------------+----------------+---------+---------+-----------+-----------+----------------+----------+----------------+---------+---------------------+---+--------------------+---------------+-------+-------+\n",
            "only showing top 5 rows\n",
            "\n"
          ]
        }
      ],
      "source": [
        "prft.show(5)"
      ]
    },
    {
      "cell_type": "code",
      "execution_count": null,
      "metadata": {
        "id": "87q4-n1O7KmO"
      },
      "outputs": [],
      "source": [
        "a=prft.groupBy(\"tournament_name\",\"winner\").agg(F.sum(\"resultw\"),F.sum(\"resultb\"))"
      ]
    },
    {
      "cell_type": "code",
      "execution_count": null,
      "metadata": {
        "id": "YsRiTGcl8Omn"
      },
      "outputs": [],
      "source": [
        "a1=a.where(\"sum(resultb) = 0\")\n",
        "a1=a1.select(\"tournament_name\",\"winner\")\n",
        "a2=a.where(\"sum(resultw) =0\")\n",
        "a2=a2.select(\"tournament_name\",\"winner\")"
      ]
    },
    {
      "cell_type": "code",
      "execution_count": null,
      "metadata": {
        "id": "AAnBbDXo9xJO"
      },
      "outputs": [],
      "source": [
        "result12=a1.unionByName(a2)"
      ]
    },
    {
      "cell_type": "code",
      "execution_count": null,
      "metadata": {
        "colab": {
          "base_uri": "https://localhost:8080/"
        },
        "id": "FasewJ2vOqOG",
        "outputId": "db195541-19cb-4dd3-e504-078acb5616c7"
      },
      "outputs": [
        {
          "output_type": "stream",
          "name": "stdout",
          "text": [
            "+---------------+------------------+\n",
            "|tournament_name|            winner|\n",
            "+---------------+------------------+\n",
            "|  FideChamp2002|          Nataf,IA|\n",
            "|  FideChamp1999|Ponomariov, Ruslan|\n",
            "|  FideChamp2002|    Vallejo Pons,F|\n",
            "|  FideChamp2004|        Malakhov,V|\n",
            "|  FideChamp2002|      Radziewicz,I|\n",
            "|  FideChamp2002|     Baginskaite,C|\n",
            "|  FideChamp2002|      Prudnikova,S|\n",
            "|  FideChamp1999|   Wahls, Matthias|\n",
            "|  FideChamp1998|     Ehlvest, Jaan|\n",
            "| WorldChamp2008|         Kramnik,V|\n",
            "|  FideChamp1999|     Ehlvest, Jaan|\n",
            "|  FideChamp1998|      Glek, Igor V|\n",
            "|  FideChamp2004|        Inarkiev,E|\n",
            "|  FideChamp2000|      Villamayor,B|\n",
            "|  FideChamp2002|        Gurevich,M|\n",
            "|   PCAChamp1995|Anand, Viswanathan|\n",
            "|  FideChamp2002|       Savchenko,S|\n",
            "|  FideChamp2000|         Chernin,A|\n",
            "|  FideChamp1999| Babula, Vlastimil|\n",
            "|  FideChamp1999|    Benjamin, Joel|\n",
            "+---------------+------------------+\n",
            "only showing top 20 rows\n",
            "\n"
          ]
        }
      ],
      "source": [
        "result12.show()"
      ]
    },
    {
      "cell_type": "markdown",
      "metadata": {
        "id": "RuDFQ5wBBFpV"
      },
      "source": [
        "13. Player with highest winning ratio.\n",
        "Hint: Winning ratio: (Number of rounds won)/(Number of rounds played)\n",
        "Result attributes: player_name\n",
        "Final result will have only one row"
      ]
    },
    {
      "cell_type": "code",
      "execution_count": null,
      "metadata": {
        "colab": {
          "base_uri": "https://localhost:8080/"
        },
        "id": "NQbBuYJgA53g",
        "outputId": "fab387ed-c30c-4516-8c33-b522a065367a"
      },
      "outputs": [
        {
          "output_type": "stream",
          "name": "stdout",
          "text": [
            "+--------------------+----------+--------+---------+-----------+-----+----------------+----------------+-------+---------+---------+-----------+-----------+---------+----------+----------------+---------+---------------------+---+--------------------+---------------+\n",
            "|             game_id|game_order|   event|     site|date_played|round|           white|           black| result|white_elo|black_elo|white_title|black_title|   winner|winner_elo|           loser|loser_elo|winner_loser_elo_diff|eco|        date_created|tournament_name|\n",
            "+--------------------+----------+--------+---------+-----------+-----+----------------+----------------+-------+---------+---------+-----------+-----------+---------+----------+----------------+---------+---------------------+---+--------------------+---------------+\n",
            "|86e0b7f5-7b94-4ae...|         1|WCh 2021|Dubai UAE| 2021.11.26|    1|Nepomniachtchi,I|       Carlsen,M|1/2-1/2|     2782|     2855|       null|       null|     draw|      null|            draw|     null|                    0|C88|2022-07-22T22:33:...| WorldChamp2021|\n",
            "|dc4a10ab-54cf-49d...|         2|WCh 2021|Dubai UAE| 2021.11.27|    2|       Carlsen,M|Nepomniachtchi,I|1/2-1/2|     2855|     2782|       null|       null|     draw|      null|            draw|     null|                    0|E06|2022-07-22T22:33:...| WorldChamp2021|\n",
            "|f042ca37-8899-488...|         3|WCh 2021|Dubai UAE| 2021.11.28|    3|Nepomniachtchi,I|       Carlsen,M|1/2-1/2|     2782|     2855|       null|       null|     draw|      null|            draw|     null|                    0|C88|2022-07-22T22:33:...| WorldChamp2021|\n",
            "|f70e4bbc-21e3-46f...|         4|WCh 2021|Dubai UAE| 2021.11.30|    4|       Carlsen,M|Nepomniachtchi,I|1/2-1/2|     2855|     2782|       null|       null|     draw|      null|            draw|     null|                    0|C42|2022-07-22T22:33:...| WorldChamp2021|\n",
            "|c941c323-308a-4c8...|         5|WCh 2021|Dubai UAE| 2021.12.01|    5|Nepomniachtchi,I|       Carlsen,M|1/2-1/2|     2782|     2855|       null|       null|     draw|      null|            draw|     null|                    0|C88|2022-07-22T22:33:...| WorldChamp2021|\n",
            "|58e83255-93bb-4d5...|         6|WCh 2021|Dubai UAE| 2021.12.03|    6|       Carlsen,M|Nepomniachtchi,I|    1-0|     2855|     2782|       null|       null|Carlsen,M|      2855|Nepomniachtchi,I|     2782|                   73|D02|2022-07-22T22:33:...| WorldChamp2021|\n",
            "|29181d93-73f4-4fb...|         7|WCh 2021|Dubai UAE| 2021.12.04|    7|Nepomniachtchi,I|       Carlsen,M|1/2-1/2|     2782|     2855|       null|       null|     draw|      null|            draw|     null|                    0|C88|2022-07-22T22:33:...| WorldChamp2021|\n",
            "|8a4ccd8c-d437-429...|         8|WCh 2021|Dubai UAE| 2021.12.05|    8|       Carlsen,M|Nepomniachtchi,I|    1-0|     2855|     2782|       null|       null|Carlsen,M|      2855|Nepomniachtchi,I|     2782|                   73|C43|2022-07-22T22:33:...| WorldChamp2021|\n",
            "|55a122db-27d1-495...|         9|WCh 2021|Dubai UAE| 2021.12.07|    9|Nepomniachtchi,I|       Carlsen,M|    0-1|     2782|     2855|       null|       null|Carlsen,M|      2855|Nepomniachtchi,I|     2782|                   73|A13|2022-07-22T22:33:...| WorldChamp2021|\n",
            "|1f900d18-5ea3-4f4...|        10|WCh 2021|Dubai UAE| 2021.12.08|   10|       Carlsen,M|Nepomniachtchi,I|1/2-1/2|     2855|     2782|       null|       null|     draw|      null|            draw|     null|                    0|C42|2022-07-22T22:33:...| WorldChamp2021|\n",
            "+--------------------+----------+--------+---------+-----------+-----+----------------+----------------+-------+---------+---------+-----------+-----------+---------+----------+----------------+---------+---------------------+---+--------------------+---------------+\n",
            "only showing top 10 rows\n",
            "\n"
          ]
        }
      ],
      "source": [
        "chess_info.show(10)"
      ]
    },
    {
      "cell_type": "code",
      "execution_count": null,
      "metadata": {
        "id": "DVyMWyCiUc-x"
      },
      "outputs": [],
      "source": [
        "chess_info12=chess_info.withColumn(\"white_split\",split(col(\"white\"),\"[,]\"))\\\n",
        "          .withColumn(\"whitew\",col(\"white_split\")[0]).drop(\"white_split\",\"white\")\n",
        "\n",
        "chess_info12=chess_info12.withColumn(\"black_split\",split(col(\"black\"),\"[,]\"))\\\n",
        "          .withColumn(\"blackw\",col(\"black_split\")[0]).drop(\"black_split\",\"black\")"
      ]
    },
    {
      "cell_type": "code",
      "execution_count": null,
      "metadata": {
        "colab": {
          "base_uri": "https://localhost:8080/"
        },
        "id": "MTNCe313Vw2z",
        "outputId": "e7ae50f3-6a55-447a-f93f-349c08383fc2"
      },
      "outputs": [
        {
          "output_type": "stream",
          "name": "stdout",
          "text": [
            "+--------------------+----------+--------+----------+-----------+-----+-------+---------+---------+-----------+-----------+---------+----------+----------------+---------+---------------------+---+--------------------+---------------+--------------+--------------+\n",
            "|             game_id|game_order|   event|      site|date_played|round| result|white_elo|black_elo|white_title|black_title|   winner|winner_elo|           loser|loser_elo|winner_loser_elo_diff|eco|        date_created|tournament_name|        whitew|        blackw|\n",
            "+--------------------+----------+--------+----------+-----------+-----+-------+---------+---------+-----------+-----------+---------+----------+----------------+---------+---------------------+---+--------------------+---------------+--------------+--------------+\n",
            "|86e0b7f5-7b94-4ae...|         1|WCh 2021| Dubai UAE| 2021.11.26|    1|1/2-1/2|     2782|     2855|       null|       null|     draw|      null|            draw|     null|                    0|C88|2022-07-22T22:33:...| WorldChamp2021|Nepomniachtchi|       Carlsen|\n",
            "|dc4a10ab-54cf-49d...|         2|WCh 2021| Dubai UAE| 2021.11.27|    2|1/2-1/2|     2855|     2782|       null|       null|     draw|      null|            draw|     null|                    0|E06|2022-07-22T22:33:...| WorldChamp2021|       Carlsen|Nepomniachtchi|\n",
            "|f042ca37-8899-488...|         3|WCh 2021| Dubai UAE| 2021.11.28|    3|1/2-1/2|     2782|     2855|       null|       null|     draw|      null|            draw|     null|                    0|C88|2022-07-22T22:33:...| WorldChamp2021|Nepomniachtchi|       Carlsen|\n",
            "|f70e4bbc-21e3-46f...|         4|WCh 2021| Dubai UAE| 2021.11.30|    4|1/2-1/2|     2855|     2782|       null|       null|     draw|      null|            draw|     null|                    0|C42|2022-07-22T22:33:...| WorldChamp2021|       Carlsen|Nepomniachtchi|\n",
            "|c941c323-308a-4c8...|         5|WCh 2021| Dubai UAE| 2021.12.01|    5|1/2-1/2|     2782|     2855|       null|       null|     draw|      null|            draw|     null|                    0|C88|2022-07-22T22:33:...| WorldChamp2021|Nepomniachtchi|       Carlsen|\n",
            "|58e83255-93bb-4d5...|         6|WCh 2021| Dubai UAE| 2021.12.03|    6|    1-0|     2855|     2782|       null|       null|Carlsen,M|      2855|Nepomniachtchi,I|     2782|                   73|D02|2022-07-22T22:33:...| WorldChamp2021|       Carlsen|Nepomniachtchi|\n",
            "|29181d93-73f4-4fb...|         7|WCh 2021| Dubai UAE| 2021.12.04|    7|1/2-1/2|     2782|     2855|       null|       null|     draw|      null|            draw|     null|                    0|C88|2022-07-22T22:33:...| WorldChamp2021|Nepomniachtchi|       Carlsen|\n",
            "|8a4ccd8c-d437-429...|         8|WCh 2021| Dubai UAE| 2021.12.05|    8|    1-0|     2855|     2782|       null|       null|Carlsen,M|      2855|Nepomniachtchi,I|     2782|                   73|C43|2022-07-22T22:33:...| WorldChamp2021|       Carlsen|Nepomniachtchi|\n",
            "|55a122db-27d1-495...|         9|WCh 2021| Dubai UAE| 2021.12.07|    9|    0-1|     2782|     2855|       null|       null|Carlsen,M|      2855|Nepomniachtchi,I|     2782|                   73|A13|2022-07-22T22:33:...| WorldChamp2021|Nepomniachtchi|       Carlsen|\n",
            "|1f900d18-5ea3-4f4...|        10|WCh 2021| Dubai UAE| 2021.12.08|   10|1/2-1/2|     2855|     2782|       null|       null|     draw|      null|            draw|     null|                    0|C42|2022-07-22T22:33:...| WorldChamp2021|       Carlsen|Nepomniachtchi|\n",
            "|c512a953-a341-47c...|        11|WCh 2021| Dubai UAE| 2021.12.10|   11|    0-1|     2782|     2855|       null|       null|Carlsen,M|      2855|Nepomniachtchi,I|     2782|                   73|C50|2022-07-22T22:33:...| WorldChamp2021|Nepomniachtchi|       Carlsen|\n",
            "|99d39a93-427e-4d1...|         1|WCh 2018|London ENG| 2018.11.09|    1|1/2-1/2|     2832|     2835|         GM|         GM|     draw|      null|            draw|     null|                    0|B31|2022-07-22T22:33:...| WorldChamp2018|       Caruana|       Carlsen|\n",
            "|c87ceb3e-67a7-45d...|         2|WCh 2018|London ENG| 2018.11.10|    2|1/2-1/2|     2835|     2832|         GM|         GM|     draw|      null|            draw|     null|                    0|D37|2022-07-22T22:33:...| WorldChamp2018|       Carlsen|       Caruana|\n",
            "|d50510ea-9c1a-460...|         3|WCh 2018|London ENG| 2018.11.12|    3|1/2-1/2|     2832|     2835|         GM|         GM|     draw|      null|            draw|     null|                    0|B31|2022-07-22T22:33:...| WorldChamp2018|       Caruana|       Carlsen|\n",
            "|e899e16a-281e-41b...|         4|WCh 2018|London ENG| 2018.11.13|    4|1/2-1/2|     2835|     2832|         GM|         GM|     draw|      null|            draw|     null|                    0|A29|2022-07-22T22:33:...| WorldChamp2018|       Carlsen|       Caruana|\n",
            "|59f8da88-fd21-405...|         5|WCh 2018|London ENG| 2018.11.15|    5|1/2-1/2|     2832|     2835|         GM|         GM|     draw|      null|            draw|     null|                    0|B31|2022-07-22T22:33:...| WorldChamp2018|       Caruana|       Carlsen|\n",
            "|6dcc4b46-3155-47e...|         6|WCh 2018|London ENG| 2018.11.16|    6|1/2-1/2|     2835|     2832|         GM|         GM|     draw|      null|            draw|     null|                    0|C42|2022-07-22T22:33:...| WorldChamp2018|       Carlsen|       Caruana|\n",
            "|c0c727cf-03ec-4b4...|         7|WCh 2018|London ENG| 2018.11.18|    7|1/2-1/2|     2835|     2832|         GM|         GM|     draw|      null|            draw|     null|                    0|D37|2022-07-22T22:33:...| WorldChamp2018|       Carlsen|       Caruana|\n",
            "|4c14e044-cacc-405...|         8|WCh 2018|London ENG| 2018.11.19|    8|1/2-1/2|     2832|     2835|         GM|         GM|     draw|      null|            draw|     null|                    0|B33|2022-07-22T22:33:...| WorldChamp2018|       Caruana|       Carlsen|\n",
            "|3f4eb26e-3cd1-43b...|         9|WCh 2018|London ENG| 2018.11.21|    9|1/2-1/2|     2835|     2832|         GM|         GM|     draw|      null|            draw|     null|                    0|A29|2022-07-22T22:33:...| WorldChamp2018|       Carlsen|       Caruana|\n",
            "+--------------------+----------+--------+----------+-----------+-----+-------+---------+---------+-----------+-----------+---------+----------+----------------+---------+---------------------+---+--------------------+---------------+--------------+--------------+\n",
            "only showing top 20 rows\n",
            "\n"
          ]
        }
      ],
      "source": [
        "chess_info12.show()"
      ]
    },
    {
      "cell_type": "code",
      "execution_count": null,
      "metadata": {
        "id": "CeDvJUQJLqEq"
      },
      "outputs": [],
      "source": [
        "a1=chess_info12.groupBy(\"whitew\").count()\n",
        "a1=a1.withColumnRenamed(\"whitew\",\"name\")\n",
        "a1=a1.withColumnRenamed(\"count\",\"countw\")\n",
        "\n",
        "\n",
        "a2=chess_info12.groupBy(\"blackw\").count()\n",
        "a2=a2.withColumnRenamed(\"blackw\",\"name\")\n",
        "a2=a2.withColumnRenamed(\"count\",\"countb\")"
      ]
    },
    {
      "cell_type": "code",
      "execution_count": null,
      "metadata": {
        "id": "K-PcYc-wLp2w"
      },
      "outputs": [],
      "source": [
        "a=a1.join(a2,a1.name==a2.name, how =\"inner\").drop(a2.name)"
      ]
    },
    {
      "cell_type": "code",
      "execution_count": null,
      "metadata": {
        "colab": {
          "base_uri": "https://localhost:8080/"
        },
        "id": "xl74B3zPR5Fx",
        "outputId": "9985ef9e-3bb9-4ddd-da40-7ed7f60b041f"
      },
      "outputs": [
        {
          "output_type": "stream",
          "name": "stdout",
          "text": [
            "+--------------+------+------+\n",
            "|          name|countw|countb|\n",
            "+--------------+------+------+\n",
            "|Becerra Rivero|     1|     1|\n",
            "|     Giorgadze|     4|     5|\n",
            "|         Milov|    13|    14|\n",
            "|        Elarbi|     1|     1|\n",
            "|        Babula|     2|     2|\n",
            "+--------------+------+------+\n",
            "only showing top 5 rows\n",
            "\n"
          ]
        }
      ],
      "source": [
        "a.show(5)"
      ]
    },
    {
      "cell_type": "code",
      "execution_count": null,
      "metadata": {
        "colab": {
          "base_uri": "https://localhost:8080/"
        },
        "id": "PCm1q6KESWXy",
        "outputId": "424ea090-1b72-49d2-df49-8faa62345e7d"
      },
      "outputs": [
        {
          "output_type": "stream",
          "name": "stdout",
          "text": [
            "+--------------+-------------+\n",
            "|          name|rounds_played|\n",
            "+--------------+-------------+\n",
            "|Becerra Rivero|            2|\n",
            "|     Giorgadze|            9|\n",
            "|         Milov|           27|\n",
            "|        Elarbi|            2|\n",
            "|        Babula|            4|\n",
            "|         Kritz|            4|\n",
            "|       Fominyh|            2|\n",
            "|        Asabri|            2|\n",
            "|    Morozevich|           48|\n",
            "|        Kobese|            7|\n",
            "|  Peng Xiaomin|           16|\n",
            "|      Karjakin|           18|\n",
            "|     Neelotpal|            4|\n",
            "|       Psakhis|           25|\n",
            "|         Safin|            2|\n",
            "|          Lima|            6|\n",
            "|        Lerner|            2|\n",
            "|   Gu Xiaobing|            2|\n",
            "|         Gulko|           27|\n",
            "|     Arakhamia|            2|\n",
            "|    Hjartarson|            8|\n",
            "|       Mahjoob|            4|\n",
            "|        Volkov|           16|\n",
            "|      Tkachiev|           48|\n",
            "|   Yu Shaoteng|            4|\n",
            "|         Salov|            6|\n",
            "|   Miladinovic|            6|\n",
            "|       Lautier|           42|\n",
            "|    Timoshenko|            2|\n",
            "|        Bartel|            2|\n",
            "+--------------+-------------+\n",
            "only showing top 30 rows\n",
            "\n"
          ]
        }
      ],
      "source": [
        "from pyspark.sql.functions import col\n",
        "\n",
        "df_13=a.select(\"name\",((col(\"countw\") + col(\"countb\"))).alias(\"rounds_played\"))\n",
        "df_13.show(30)"
      ]
    },
    {
      "cell_type": "code",
      "execution_count": null,
      "metadata": {
        "colab": {
          "base_uri": "https://localhost:8080/"
        },
        "id": "diA3DiTNTG5O",
        "outputId": "81625fad-70b7-43fa-c021-12f043d62c1f"
      },
      "outputs": [
        {
          "output_type": "stream",
          "name": "stdout",
          "text": [
            "+--------------------+----------+--------+---------+-----------+-----+-------+---------+---------+-----------+-----------+------+----------+-----+---------+---------------------+---+--------------------+---------------+--------------+--------------+\n",
            "|             game_id|game_order|   event|     site|date_played|round| result|white_elo|black_elo|white_title|black_title|winner|winner_elo|loser|loser_elo|winner_loser_elo_diff|eco|        date_created|tournament_name|        whitew|        blackw|\n",
            "+--------------------+----------+--------+---------+-----------+-----+-------+---------+---------+-----------+-----------+------+----------+-----+---------+---------------------+---+--------------------+---------------+--------------+--------------+\n",
            "|86e0b7f5-7b94-4ae...|         1|WCh 2021|Dubai UAE| 2021.11.26|    1|1/2-1/2|     2782|     2855|       null|       null|  draw|      null| draw|     null|                    0|C88|2022-07-22T22:33:...| WorldChamp2021|Nepomniachtchi|       Carlsen|\n",
            "|dc4a10ab-54cf-49d...|         2|WCh 2021|Dubai UAE| 2021.11.27|    2|1/2-1/2|     2855|     2782|       null|       null|  draw|      null| draw|     null|                    0|E06|2022-07-22T22:33:...| WorldChamp2021|       Carlsen|Nepomniachtchi|\n",
            "|f042ca37-8899-488...|         3|WCh 2021|Dubai UAE| 2021.11.28|    3|1/2-1/2|     2782|     2855|       null|       null|  draw|      null| draw|     null|                    0|C88|2022-07-22T22:33:...| WorldChamp2021|Nepomniachtchi|       Carlsen|\n",
            "|f70e4bbc-21e3-46f...|         4|WCh 2021|Dubai UAE| 2021.11.30|    4|1/2-1/2|     2855|     2782|       null|       null|  draw|      null| draw|     null|                    0|C42|2022-07-22T22:33:...| WorldChamp2021|       Carlsen|Nepomniachtchi|\n",
            "|c941c323-308a-4c8...|         5|WCh 2021|Dubai UAE| 2021.12.01|    5|1/2-1/2|     2782|     2855|       null|       null|  draw|      null| draw|     null|                    0|C88|2022-07-22T22:33:...| WorldChamp2021|Nepomniachtchi|       Carlsen|\n",
            "+--------------------+----------+--------+---------+-----------+-----+-------+---------+---------+-----------+-----------+------+----------+-----+---------+---------------------+---+--------------------+---------------+--------------+--------------+\n",
            "only showing top 5 rows\n",
            "\n"
          ]
        }
      ],
      "source": [
        "chess_info12.show(5)"
      ]
    },
    {
      "cell_type": "code",
      "execution_count": null,
      "metadata": {
        "id": "RiNLXqCAZTgs"
      },
      "outputs": [],
      "source": [
        "chess_info12=chess_info12.where(\"winner !='draw'\")\n",
        "chess_info12=chess_info12.withColumn(\"winner_split\",split(col(\"winner\"),\"[,]\"))\\\n",
        "          .withColumn(\"winnerw\",col(\"winner_split\")[0]).drop(\"winner_split\",\"winner\")"
      ]
    },
    {
      "cell_type": "code",
      "execution_count": null,
      "metadata": {
        "id": "8yeeDJWUYOUA"
      },
      "outputs": [],
      "source": [
        "b1=chess_info12.select(\"winnerw\").where(\"whitew = winnerw\")\n",
        "b1=b1.groupBy(\"winnerw\").count()\n",
        "b1=b1.withColumnRenamed(\"count\",\"countw\")\n",
        "\n",
        "b2=chess_info12.select(\"winnerw\").where(\"blackw = winnerw\")\n",
        "b2=b2.groupBy(\"winnerw\").count()\n",
        "b2=b2.withColumnRenamed(\"count\",\"countb\")"
      ]
    },
    {
      "cell_type": "code",
      "execution_count": null,
      "metadata": {
        "id": "3v4dhk5EYORZ"
      },
      "outputs": [],
      "source": [
        "b=b2.join(b1,b1.winnerw==b2.winnerw, how =\"inner\").drop(b2.winnerw)"
      ]
    },
    {
      "cell_type": "code",
      "execution_count": null,
      "metadata": {
        "colab": {
          "base_uri": "https://localhost:8080/"
        },
        "id": "IqohN2XPb9eV",
        "outputId": "0e743904-9b88-44f8-c428-11144d132897"
      },
      "outputs": [
        {
          "output_type": "stream",
          "name": "stdout",
          "text": [
            "+------+-------------+------+\n",
            "|countb|      winnerw|countw|\n",
            "+------+-------------+------+\n",
            "|     3|        Milov|     6|\n",
            "|     1|        Kritz|     1|\n",
            "|     4|   Morozevich|    11|\n",
            "|     2| Peng Xiaomin|     3|\n",
            "|     2|      Psakhis|     2|\n",
            "|     2|        Gulko|     2|\n",
            "|     5|     Tkachiev|     9|\n",
            "|     2|       Volkov|     2|\n",
            "|     1|  Miladinovic|     1|\n",
            "|     7|      Lautier|     5|\n",
            "|     1|      Nijboer|     1|\n",
            "|     1|Granda Zuniga|     1|\n",
            "|     1|       Serper|     2|\n",
            "|     7|     Kasparov|    24|\n",
            "|     1|       Jobava|     1|\n",
            "|     2|     Benjamin|     2|\n",
            "|     1|      Antonio|     1|\n",
            "|     2|    Andersson|     3|\n",
            "|     1|     Tarrasch|     2|\n",
            "|     4|Ye Jiangchuan|     4|\n",
            "+------+-------------+------+\n",
            "only showing top 20 rows\n",
            "\n"
          ]
        }
      ],
      "source": [
        "b.show()"
      ]
    },
    {
      "cell_type": "code",
      "execution_count": null,
      "metadata": {
        "colab": {
          "base_uri": "https://localhost:8080/"
        },
        "id": "wLMGVnmibh_8",
        "outputId": "a4d467e3-4669-49c5-edf7-4baacba68e29"
      },
      "outputs": [
        {
          "output_type": "stream",
          "name": "stdout",
          "text": [
            "+-------------+----------+\n",
            "|      winnerw|rounds_won|\n",
            "+-------------+----------+\n",
            "|        Milov|         9|\n",
            "|        Kritz|         2|\n",
            "|   Morozevich|        15|\n",
            "| Peng Xiaomin|         5|\n",
            "|      Psakhis|         4|\n",
            "|        Gulko|         4|\n",
            "|     Tkachiev|        14|\n",
            "|       Volkov|         4|\n",
            "|  Miladinovic|         2|\n",
            "|      Lautier|        12|\n",
            "|      Nijboer|         2|\n",
            "|Granda Zuniga|         2|\n",
            "|       Serper|         3|\n",
            "|     Kasparov|        31|\n",
            "|       Jobava|         2|\n",
            "|     Benjamin|         4|\n",
            "|      Antonio|         2|\n",
            "|    Andersson|         5|\n",
            "|     Tarrasch|         3|\n",
            "|Ye Jiangchuan|         8|\n",
            "|       Sadler|         2|\n",
            "| Kasimdzhanov|        19|\n",
            "|   Kortschnoj|        13|\n",
            "|          Acs|         3|\n",
            "|      Smirnov|         5|\n",
            "|      Sulskis|         5|\n",
            "|    Sasikiran|         2|\n",
            "|   Mamedyarov|         3|\n",
            "|   Ponomariov|        14|\n",
            "|     Steinitz|        43|\n",
            "+-------------+----------+\n",
            "only showing top 30 rows\n",
            "\n"
          ]
        }
      ],
      "source": [
        "df_13a=b.select(\"winnerw\",((col(\"countw\") + col(\"countb\"))).alias(\"rounds_won\"))\n",
        "df_13a.show(30)"
      ]
    },
    {
      "cell_type": "code",
      "source": [
        "result13=df_13.join(df_13a,df_13.name==df_13a.winnerw, how=\"inner\").drop(df_13a.winnerw)"
      ],
      "metadata": {
        "id": "zYOduyNOq0oU"
      },
      "execution_count": null,
      "outputs": []
    },
    {
      "cell_type": "code",
      "source": [
        "result13=result13.select(\"name\",((col(\"rounds_won\")/ col(\"rounds_played\"))).alias(\"winning_ratio\"))\n",
        "result13=result13.sort(\"winning_ratio\",ascending=False)\n",
        "result13=result13.limit(1)\n",
        "result13.show()"
      ],
      "metadata": {
        "colab": {
          "base_uri": "https://localhost:8080/"
        },
        "id": "Esij0d8DrP8u",
        "outputId": "d61f6854-39e9-4fa0-9d60-b86bb866f990"
      },
      "execution_count": null,
      "outputs": [
        {
          "output_type": "stream",
          "name": "stdout",
          "text": [
            "+------+-------------+\n",
            "|  name|winning_ratio|\n",
            "+------+-------------+\n",
            "|Foisor|          1.0|\n",
            "+------+-------------+\n",
            "\n"
          ]
        }
      ]
    },
    {
      "cell_type": "markdown",
      "metadata": {
        "id": "vrS0Ge0XG082"
      },
      "source": [
        "14. Player who had given checkmate with Pawn.\n",
        "Note: Consider all events for this query\n",
        "Result attributes: player_name\n",
        "Final result will have only one row"
      ]
    },
    {
      "cell_type": "code",
      "execution_count": null,
      "metadata": {
        "colab": {
          "base_uri": "https://localhost:8080/"
        },
        "id": "crk_CabOGw62",
        "outputId": "01a4b63c-9b07-4813-ab5c-63885133e704"
      },
      "outputs": [
        {
          "output_type": "stream",
          "name": "stdout",
          "text": [
            "+--------------------+-------+------------+----------------+--------+----+-----------+---------+-----+-----+--------------------+--------+-------------+--------------+----------------------+------------+------------------------+-----------+-----------+----------------+----------------+-----------------+-----------------+------------------+------------------+------------------+------------------+----------------+----------------+------------------------+------------------------+--------------------+--------------------+--------------------+--------------------+--------------------+--------------------+--------------------+--------------------+--------------------+--------------------+--------------------+--------------------+--------------------+--------------------+--------------------+--------------------+--------------------+--------------------+--------------------+--------------------+--------------------+--------------------+--------------------+--------------------+--------------------+--------------------+--------------------+--------------------+--------------------+--------------------+--------------------+--------------------+--------------------+\n",
            "|             game_id|move_no|move_no_pair|          player|notation|move|from_square|to_square|piece|color|                 fen|is_check|is_check_mate|is_fifty_moves|is_fivefold_repetition|is_game_over|is_insufficient_material|white_count|black_count|white_pawn_count|black_pawn_count|white_queen_count|black_queen_count|white_bishop_count|black_bishop_count|white_knight_count|black_knight_count|white_rook_count|black_rook_count|captured_score_for_white|captured_score_for_black|fen_row1_white_count|fen_row2_white_count|fen_row3_white_count|fen_row4_white_count|fen_row5_white_count|fen_row6_white_count|fen_row7_white_count|fen_row8_white_count|fen_row1_white_value|fen_row2_white_value|fen_row3_white_value|fen_row4_white_value|fen_row5_white_value|fen_row6_white_value|fen_row7_white_value|fen_row8_white_value|fen_row1_black_count|fen_row2_black_count|fen_row3_black_count|fen_row4_black_count|fen_row5_black_count|fen_row6_black_count|fen_row7_black_count|fen_row8_black_count|fen_row1_black_value|fen_row2_black_value|fen_row3_black_value|fen_row4_black_value|fen_row5_black_value|fen_row6_black_value|fen_row7_black_value|fen_row8_black_value|       move_sequence|\n",
            "+--------------------+-------+------------+----------------+--------+----+-----------+---------+-----+-----+--------------------+--------+-------------+--------------+----------------------+------------+------------------------+-----------+-----------+----------------+----------------+-----------------+-----------------+------------------+------------------+------------------+------------------+----------------+----------------+------------------------+------------------------+--------------------+--------------------+--------------------+--------------------+--------------------+--------------------+--------------------+--------------------+--------------------+--------------------+--------------------+--------------------+--------------------+--------------------+--------------------+--------------------+--------------------+--------------------+--------------------+--------------------+--------------------+--------------------+--------------------+--------------------+--------------------+--------------------+--------------------+--------------------+--------------------+--------------------+--------------------+--------------------+--------------------+\n",
            "|86e0b7f5-7b94-4ae...|      1|           1|Nepomniachtchi,I|      e4|e2e4|         e2|       e4|    P|White|rnbqkbnr/pppppppp...|       0|            0|             0|                     0|           0|                       0|         16|         16|               8|               8|                1|                1|                 2|                 2|                 2|                 2|               2|               2|                       0|                       0|                   8|                   7|                   0|                   1|                   0|                   0|                   0|                   0|                  31|                   7|                   0|                   1|                   0|                   0|                   0|                   0|                   0|                   0|                   0|                   0|                   0|                   0|                   8|                   8|                   0|                   0|                   0|                   0|                   0|                   0|                   8|                  31|                  e4|\n",
            "|86e0b7f5-7b94-4ae...|      2|           1|       Carlsen,M|      e5|e7e5|         e7|       e5|    P|Black|rnbqkbnr/pppp1ppp...|       0|            0|             0|                     0|           0|                       0|         16|         16|               8|               8|                1|                1|                 2|                 2|                 2|                 2|               2|               2|                       0|                       0|                   8|                   7|                   0|                   1|                   0|                   0|                   0|                   0|                  31|                   7|                   0|                   1|                   0|                   0|                   0|                   0|                   0|                   0|                   0|                   0|                   1|                   0|                   7|                   8|                   0|                   0|                   0|                   0|                   1|                   0|                   7|                  31|               e4|e5|\n",
            "|86e0b7f5-7b94-4ae...|      3|           2|Nepomniachtchi,I|     Nf3|g1f3|         g1|       f3|    N|White|rnbqkbnr/pppp1ppp...|       0|            0|             0|                     0|           0|                       0|         16|         16|               8|               8|                1|                1|                 2|                 2|                 2|                 2|               2|               2|                       0|                       0|                   7|                   7|                   1|                   1|                   0|                   0|                   0|                   0|                  28|                   7|                   3|                   1|                   0|                   0|                   0|                   0|                   0|                   0|                   0|                   0|                   1|                   0|                   7|                   8|                   0|                   0|                   0|                   0|                   1|                   0|                   7|                  31|           e4|e5|Nf3|\n",
            "|86e0b7f5-7b94-4ae...|      4|           2|       Carlsen,M|     Nc6|b8c6|         b8|       c6|    N|Black|r1bqkbnr/pppp1ppp...|       0|            0|             0|                     0|           0|                       0|         16|         16|               8|               8|                1|                1|                 2|                 2|                 2|                 2|               2|               2|                       0|                       0|                   7|                   7|                   1|                   1|                   0|                   0|                   0|                   0|                  28|                   7|                   3|                   1|                   0|                   0|                   0|                   0|                   0|                   0|                   0|                   0|                   1|                   1|                   7|                   7|                   0|                   0|                   0|                   0|                   1|                   3|                   7|                  28|       e4|e5|Nf3|Nc6|\n",
            "|86e0b7f5-7b94-4ae...|      5|           3|Nepomniachtchi,I|     Bb5|f1b5|         f1|       b5|    B|White|r1bqkbnr/pppp1ppp...|       0|            0|             0|                     0|           0|                       0|         16|         16|               8|               8|                1|                1|                 2|                 2|                 2|                 2|               2|               2|                       0|                       0|                   6|                   7|                   1|                   1|                   1|                   0|                   0|                   0|                  25|                   7|                   3|                   1|                   3|                   0|                   0|                   0|                   0|                   0|                   0|                   0|                   1|                   1|                   7|                   7|                   0|                   0|                   0|                   0|                   1|                   3|                   7|                  28|   e4|e5|Nf3|Nc6|Bb5|\n",
            "|86e0b7f5-7b94-4ae...|      6|           3|       Carlsen,M|      a6|a7a6|         a7|       a6|    P|Black|r1bqkbnr/1ppp1ppp...|       0|            0|             0|                     0|           0|                       0|         16|         16|               8|               8|                1|                1|                 2|                 2|                 2|                 2|               2|               2|                       0|                       0|                   6|                   7|                   1|                   1|                   1|                   0|                   0|                   0|                  25|                   7|                   3|                   1|                   3|                   0|                   0|                   0|                   0|                   0|                   0|                   0|                   1|                   2|                   6|                   7|                   0|                   0|                   0|                   0|                   1|                   4|                   6|                  28|e4|e5|Nf3|Nc6|Bb5|a6|\n",
            "|86e0b7f5-7b94-4ae...|      7|           4|Nepomniachtchi,I|     Ba4|b5a4|         b5|       a4|    B|White|r1bqkbnr/1ppp1ppp...|       0|            0|             0|                     0|           0|                       0|         16|         16|               8|               8|                1|                1|                 2|                 2|                 2|                 2|               2|               2|                       0|                       0|                   6|                   7|                   1|                   2|                   0|                   0|                   0|                   0|                  25|                   7|                   3|                   4|                   0|                   0|                   0|                   0|                   0|                   0|                   0|                   0|                   1|                   2|                   6|                   7|                   0|                   0|                   0|                   0|                   1|                   4|                   6|                  28|e4|e5|Nf3|Nc6|Bb5...|\n",
            "|86e0b7f5-7b94-4ae...|      8|           4|       Carlsen,M|     Nf6|g8f6|         g8|       f6|    N|Black|r1bqkb1r/1ppp1ppp...|       0|            0|             0|                     0|           0|                       0|         16|         16|               8|               8|                1|                1|                 2|                 2|                 2|                 2|               2|               2|                       0|                       0|                   6|                   7|                   1|                   2|                   0|                   0|                   0|                   0|                  25|                   7|                   3|                   4|                   0|                   0|                   0|                   0|                   0|                   0|                   0|                   0|                   1|                   3|                   6|                   6|                   0|                   0|                   0|                   0|                   1|                   7|                   6|                  25|e4|e5|Nf3|Nc6|Bb5...|\n",
            "|86e0b7f5-7b94-4ae...|      9|           5|Nepomniachtchi,I|     O-O|e1g1|         e1|       g1|    K|White|r1bqkb1r/1ppp1ppp...|       0|            0|             0|                     0|           0|                       0|         16|         16|               8|               8|                1|                1|                 2|                 2|                 2|                 2|               2|               2|                       0|                       0|                   6|                   7|                   1|                   2|                   0|                   0|                   0|                   0|                  25|                   7|                   3|                   4|                   0|                   0|                   0|                   0|                   0|                   0|                   0|                   0|                   1|                   3|                   6|                   6|                   0|                   0|                   0|                   0|                   1|                   7|                   6|                  25|e4|e5|Nf3|Nc6|Bb5...|\n",
            "|86e0b7f5-7b94-4ae...|     10|           5|       Carlsen,M|     Be7|f8e7|         f8|       e7|    B|Black|r1bqk2r/1pppbppp/...|       0|            0|             0|                     0|           0|                       0|         16|         16|               8|               8|                1|                1|                 2|                 2|                 2|                 2|               2|               2|                       0|                       0|                   6|                   7|                   1|                   2|                   0|                   0|                   0|                   0|                  25|                   7|                   3|                   4|                   0|                   0|                   0|                   0|                   0|                   0|                   0|                   0|                   1|                   3|                   7|                   5|                   0|                   0|                   0|                   0|                   1|                   7|                   9|                  22|e4|e5|Nf3|Nc6|Bb5...|\n",
            "|86e0b7f5-7b94-4ae...|     11|           6|Nepomniachtchi,I|     Re1|f1e1|         f1|       e1|    R|White|r1bqk2r/1pppbppp/...|       0|            0|             0|                     0|           0|                       0|         16|         16|               8|               8|                1|                1|                 2|                 2|                 2|                 2|               2|               2|                       0|                       0|                   6|                   7|                   1|                   2|                   0|                   0|                   0|                   0|                  25|                   7|                   3|                   4|                   0|                   0|                   0|                   0|                   0|                   0|                   0|                   0|                   1|                   3|                   7|                   5|                   0|                   0|                   0|                   0|                   1|                   7|                   9|                  22|e4|e5|Nf3|Nc6|Bb5...|\n",
            "|86e0b7f5-7b94-4ae...|     12|           6|       Carlsen,M|      b5|b7b5|         b7|       b5|    P|Black|r1bqk2r/2ppbppp/p...|       0|            0|             0|                     0|           0|                       0|         16|         16|               8|               8|                1|                1|                 2|                 2|                 2|                 2|               2|               2|                       0|                       0|                   6|                   7|                   1|                   2|                   0|                   0|                   0|                   0|                  25|                   7|                   3|                   4|                   0|                   0|                   0|                   0|                   0|                   0|                   0|                   0|                   2|                   3|                   6|                   5|                   0|                   0|                   0|                   0|                   2|                   7|                   8|                  22|e4|e5|Nf3|Nc6|Bb5...|\n",
            "|86e0b7f5-7b94-4ae...|     13|           7|Nepomniachtchi,I|     Bb3|a4b3|         a4|       b3|    B|White|r1bqk2r/2ppbppp/p...|       0|            0|             0|                     0|           0|                       0|         16|         16|               8|               8|                1|                1|                 2|                 2|                 2|                 2|               2|               2|                       0|                       0|                   6|                   7|                   2|                   1|                   0|                   0|                   0|                   0|                  25|                   7|                   6|                   1|                   0|                   0|                   0|                   0|                   0|                   0|                   0|                   0|                   2|                   3|                   6|                   5|                   0|                   0|                   0|                   0|                   2|                   7|                   8|                  22|e4|e5|Nf3|Nc6|Bb5...|\n",
            "|86e0b7f5-7b94-4ae...|     14|           7|       Carlsen,M|     O-O|e8g8|         e8|       g8|    K|Black|r1bq1rk1/2ppbppp/...|       0|            0|             0|                     0|           0|                       0|         16|         16|               8|               8|                1|                1|                 2|                 2|                 2|                 2|               2|               2|                       0|                       0|                   6|                   7|                   2|                   1|                   0|                   0|                   0|                   0|                  25|                   7|                   6|                   1|                   0|                   0|                   0|                   0|                   0|                   0|                   0|                   0|                   2|                   3|                   6|                   5|                   0|                   0|                   0|                   0|                   2|                   7|                   8|                  22|e4|e5|Nf3|Nc6|Bb5...|\n",
            "|86e0b7f5-7b94-4ae...|     15|           8|Nepomniachtchi,I|      h3|h2h3|         h2|       h3|    P|White|r1bq1rk1/2ppbppp/...|       0|            0|             0|                     0|           0|                       0|         16|         16|               8|               8|                1|                1|                 2|                 2|                 2|                 2|               2|               2|                       0|                       0|                   6|                   6|                   3|                   1|                   0|                   0|                   0|                   0|                  25|                   6|                   7|                   1|                   0|                   0|                   0|                   0|                   0|                   0|                   0|                   0|                   2|                   3|                   6|                   5|                   0|                   0|                   0|                   0|                   2|                   7|                   8|                  22|e4|e5|Nf3|Nc6|Bb5...|\n",
            "|86e0b7f5-7b94-4ae...|     16|           8|       Carlsen,M|     Na5|c6a5|         c6|       a5|    N|Black|r1bq1rk1/2ppbppp/...|       0|            0|             0|                     0|           0|                       0|         16|         16|               8|               8|                1|                1|                 2|                 2|                 2|                 2|               2|               2|                       0|                       0|                   6|                   6|                   3|                   1|                   0|                   0|                   0|                   0|                  25|                   6|                   7|                   1|                   0|                   0|                   0|                   0|                   0|                   0|                   0|                   0|                   3|                   2|                   6|                   5|                   0|                   0|                   0|                   0|                   5|                   4|                   8|                  22|e4|e5|Nf3|Nc6|Bb5...|\n",
            "|86e0b7f5-7b94-4ae...|     17|           9|Nepomniachtchi,I|    Nxe5|f3e5|         f3|       e5|    N|White|r1bq1rk1/2ppbppp/...|       0|            0|             0|                     0|           0|                       0|         16|         15|               8|               7|                1|                1|                 2|                 2|                 2|                 2|               2|               2|                       1|                       0|                   6|                   6|                   2|                   1|                   1|                   0|                   0|                   0|                  25|                   6|                   4|                   1|                   3|                   0|                   0|                   0|                   0|                   0|                   0|                   0|                   2|                   2|                   6|                   5|                   0|                   0|                   0|                   0|                   4|                   4|                   8|                  22|e4|e5|Nf3|Nc6|Bb5...|\n",
            "|86e0b7f5-7b94-4ae...|     18|           9|       Carlsen,M|    Nxb3|a5b3|         a5|       b3|    N|Black|r1bq1rk1/2ppbppp/...|       0|            0|             0|                     0|           0|                       0|         15|         15|               8|               7|                1|                1|                 1|                 2|                 2|                 2|               2|               2|                       1|                       3|                   6|                   6|                   1|                   1|                   1|                   0|                   0|                   0|                  25|                   6|                   1|                   1|                   3|                   0|                   0|                   0|                   0|                   0|                   1|                   0|                   1|                   2|                   6|                   5|                   0|                   0|                   3|                   0|                   1|                   4|                   8|                  22|e4|e5|Nf3|Nc6|Bb5...|\n",
            "|86e0b7f5-7b94-4ae...|     19|          10|Nepomniachtchi,I|    axb3|a2b3|         a2|       b3|    P|White|r1bq1rk1/2ppbppp/...|       0|            0|             0|                     0|           0|                       0|         15|         14|               8|               7|                1|                1|                 1|                 2|                 2|                 1|               2|               2|                       4|                       3|                   6|                   5|                   2|                   1|                   1|                   0|                   0|                   0|                  25|                   5|                   2|                   1|                   3|                   0|                   0|                   0|                   0|                   0|                   0|                   0|                   1|                   2|                   6|                   5|                   0|                   0|                   0|                   0|                   1|                   4|                   8|                  22|e4|e5|Nf3|Nc6|Bb5...|\n",
            "|86e0b7f5-7b94-4ae...|     20|          10|       Carlsen,M|     Bb7|c8b7|         c8|       b7|    B|Black|r2q1rk1/1bppbppp/...|       0|            0|             0|                     0|           0|                       0|         15|         14|               8|               7|                1|                1|                 1|                 2|                 2|                 1|               2|               2|                       4|                       3|                   6|                   5|                   2|                   1|                   1|                   0|                   0|                   0|                  25|                   5|                   2|                   1|                   3|                   0|                   0|                   0|                   0|                   0|                   0|                   0|                   1|                   2|                   7|                   4|                   0|                   0|                   0|                   0|                   1|                   4|                  11|                  19|e4|e5|Nf3|Nc6|Bb5...|\n",
            "+--------------------+-------+------------+----------------+--------+----+-----------+---------+-----+-----+--------------------+--------+-------------+--------------+----------------------+------------+------------------------+-----------+-----------+----------------+----------------+-----------------+-----------------+------------------+------------------+------------------+------------------+----------------+----------------+------------------------+------------------------+--------------------+--------------------+--------------------+--------------------+--------------------+--------------------+--------------------+--------------------+--------------------+--------------------+--------------------+--------------------+--------------------+--------------------+--------------------+--------------------+--------------------+--------------------+--------------------+--------------------+--------------------+--------------------+--------------------+--------------------+--------------------+--------------------+--------------------+--------------------+--------------------+--------------------+--------------------+--------------------+--------------------+\n",
            "only showing top 20 rows\n",
            "\n"
          ]
        }
      ],
      "source": [
        "chess_moves.show()"
      ]
    },
    {
      "cell_type": "code",
      "execution_count": null,
      "metadata": {
        "id": "CTOPfvfKGw4M"
      },
      "outputs": [],
      "source": [
        "result_14 = chess_moves.where(\"is_check_mate != 0\")\n",
        "result_14 = result_14.where(\"piece = 'P'\")"
      ]
    },
    {
      "cell_type": "code",
      "execution_count": null,
      "metadata": {
        "id": "8Cu2V8itGwtB"
      },
      "outputs": [],
      "source": [
        "result_14=chess_info.join(result_14, chess_info.game_id==result_14.game_id, how=\"inner\").drop(result_14.game_id)"
      ]
    },
    {
      "cell_type": "code",
      "execution_count": null,
      "metadata": {
        "colab": {
          "base_uri": "https://localhost:8080/"
        },
        "id": "BP01Jvz4LESr",
        "outputId": "012ad451-9759-4353-87c9-01b6804d6a9a"
      },
      "outputs": [
        {
          "output_type": "stream",
          "name": "stdout",
          "text": [
            "+--------------+\n",
            "|        winner|\n",
            "+--------------+\n",
            "|Andersson, Ulf|\n",
            "+--------------+\n",
            "\n"
          ]
        }
      ],
      "source": [
        "result_14=result_14.select(\"winner\")\n",
        "result_14.show()"
      ]
    },
    {
      "cell_type": "markdown",
      "metadata": {
        "id": "HQicwY6nCPcl"
      },
      "source": [
        "15. List games where player has won game without queen.\n",
        "Result attributes: game_id, event, player_name"
      ]
    },
    {
      "cell_type": "code",
      "execution_count": null,
      "metadata": {
        "colab": {
          "base_uri": "https://localhost:8080/"
        },
        "id": "bVbgi92QCPFy",
        "outputId": "47bec328-07dd-45ef-b3da-3503ad7aa7ba"
      },
      "outputs": [
        {
          "output_type": "stream",
          "name": "stdout",
          "text": [
            "+--------------------+-------+------------+----------------+--------+----+-----------+---------+-----+-----+--------------------+--------+-------------+--------------+----------------------+------------+------------------------+-----------+-----------+----------------+----------------+-----------------+-----------------+------------------+------------------+------------------+------------------+----------------+----------------+------------------------+------------------------+--------------------+--------------------+--------------------+--------------------+--------------------+--------------------+--------------------+--------------------+--------------------+--------------------+--------------------+--------------------+--------------------+--------------------+--------------------+--------------------+--------------------+--------------------+--------------------+--------------------+--------------------+--------------------+--------------------+--------------------+--------------------+--------------------+--------------------+--------------------+--------------------+--------------------+--------------------+--------------------+--------------------+\n",
            "|             game_id|move_no|move_no_pair|          player|notation|move|from_square|to_square|piece|color|                 fen|is_check|is_check_mate|is_fifty_moves|is_fivefold_repetition|is_game_over|is_insufficient_material|white_count|black_count|white_pawn_count|black_pawn_count|white_queen_count|black_queen_count|white_bishop_count|black_bishop_count|white_knight_count|black_knight_count|white_rook_count|black_rook_count|captured_score_for_white|captured_score_for_black|fen_row1_white_count|fen_row2_white_count|fen_row3_white_count|fen_row4_white_count|fen_row5_white_count|fen_row6_white_count|fen_row7_white_count|fen_row8_white_count|fen_row1_white_value|fen_row2_white_value|fen_row3_white_value|fen_row4_white_value|fen_row5_white_value|fen_row6_white_value|fen_row7_white_value|fen_row8_white_value|fen_row1_black_count|fen_row2_black_count|fen_row3_black_count|fen_row4_black_count|fen_row5_black_count|fen_row6_black_count|fen_row7_black_count|fen_row8_black_count|fen_row1_black_value|fen_row2_black_value|fen_row3_black_value|fen_row4_black_value|fen_row5_black_value|fen_row6_black_value|fen_row7_black_value|fen_row8_black_value|       move_sequence|\n",
            "+--------------------+-------+------------+----------------+--------+----+-----------+---------+-----+-----+--------------------+--------+-------------+--------------+----------------------+------------+------------------------+-----------+-----------+----------------+----------------+-----------------+-----------------+------------------+------------------+------------------+------------------+----------------+----------------+------------------------+------------------------+--------------------+--------------------+--------------------+--------------------+--------------------+--------------------+--------------------+--------------------+--------------------+--------------------+--------------------+--------------------+--------------------+--------------------+--------------------+--------------------+--------------------+--------------------+--------------------+--------------------+--------------------+--------------------+--------------------+--------------------+--------------------+--------------------+--------------------+--------------------+--------------------+--------------------+--------------------+--------------------+--------------------+\n",
            "|86e0b7f5-7b94-4ae...|      1|           1|Nepomniachtchi,I|      e4|e2e4|         e2|       e4|    P|White|rnbqkbnr/pppppppp...|       0|            0|             0|                     0|           0|                       0|         16|         16|               8|               8|                1|                1|                 2|                 2|                 2|                 2|               2|               2|                       0|                       0|                   8|                   7|                   0|                   1|                   0|                   0|                   0|                   0|                  31|                   7|                   0|                   1|                   0|                   0|                   0|                   0|                   0|                   0|                   0|                   0|                   0|                   0|                   8|                   8|                   0|                   0|                   0|                   0|                   0|                   0|                   8|                  31|                  e4|\n",
            "|86e0b7f5-7b94-4ae...|      2|           1|       Carlsen,M|      e5|e7e5|         e7|       e5|    P|Black|rnbqkbnr/pppp1ppp...|       0|            0|             0|                     0|           0|                       0|         16|         16|               8|               8|                1|                1|                 2|                 2|                 2|                 2|               2|               2|                       0|                       0|                   8|                   7|                   0|                   1|                   0|                   0|                   0|                   0|                  31|                   7|                   0|                   1|                   0|                   0|                   0|                   0|                   0|                   0|                   0|                   0|                   1|                   0|                   7|                   8|                   0|                   0|                   0|                   0|                   1|                   0|                   7|                  31|               e4|e5|\n",
            "|86e0b7f5-7b94-4ae...|      3|           2|Nepomniachtchi,I|     Nf3|g1f3|         g1|       f3|    N|White|rnbqkbnr/pppp1ppp...|       0|            0|             0|                     0|           0|                       0|         16|         16|               8|               8|                1|                1|                 2|                 2|                 2|                 2|               2|               2|                       0|                       0|                   7|                   7|                   1|                   1|                   0|                   0|                   0|                   0|                  28|                   7|                   3|                   1|                   0|                   0|                   0|                   0|                   0|                   0|                   0|                   0|                   1|                   0|                   7|                   8|                   0|                   0|                   0|                   0|                   1|                   0|                   7|                  31|           e4|e5|Nf3|\n",
            "|86e0b7f5-7b94-4ae...|      4|           2|       Carlsen,M|     Nc6|b8c6|         b8|       c6|    N|Black|r1bqkbnr/pppp1ppp...|       0|            0|             0|                     0|           0|                       0|         16|         16|               8|               8|                1|                1|                 2|                 2|                 2|                 2|               2|               2|                       0|                       0|                   7|                   7|                   1|                   1|                   0|                   0|                   0|                   0|                  28|                   7|                   3|                   1|                   0|                   0|                   0|                   0|                   0|                   0|                   0|                   0|                   1|                   1|                   7|                   7|                   0|                   0|                   0|                   0|                   1|                   3|                   7|                  28|       e4|e5|Nf3|Nc6|\n",
            "|86e0b7f5-7b94-4ae...|      5|           3|Nepomniachtchi,I|     Bb5|f1b5|         f1|       b5|    B|White|r1bqkbnr/pppp1ppp...|       0|            0|             0|                     0|           0|                       0|         16|         16|               8|               8|                1|                1|                 2|                 2|                 2|                 2|               2|               2|                       0|                       0|                   6|                   7|                   1|                   1|                   1|                   0|                   0|                   0|                  25|                   7|                   3|                   1|                   3|                   0|                   0|                   0|                   0|                   0|                   0|                   0|                   1|                   1|                   7|                   7|                   0|                   0|                   0|                   0|                   1|                   3|                   7|                  28|   e4|e5|Nf3|Nc6|Bb5|\n",
            "|86e0b7f5-7b94-4ae...|      6|           3|       Carlsen,M|      a6|a7a6|         a7|       a6|    P|Black|r1bqkbnr/1ppp1ppp...|       0|            0|             0|                     0|           0|                       0|         16|         16|               8|               8|                1|                1|                 2|                 2|                 2|                 2|               2|               2|                       0|                       0|                   6|                   7|                   1|                   1|                   1|                   0|                   0|                   0|                  25|                   7|                   3|                   1|                   3|                   0|                   0|                   0|                   0|                   0|                   0|                   0|                   1|                   2|                   6|                   7|                   0|                   0|                   0|                   0|                   1|                   4|                   6|                  28|e4|e5|Nf3|Nc6|Bb5|a6|\n",
            "|86e0b7f5-7b94-4ae...|      7|           4|Nepomniachtchi,I|     Ba4|b5a4|         b5|       a4|    B|White|r1bqkbnr/1ppp1ppp...|       0|            0|             0|                     0|           0|                       0|         16|         16|               8|               8|                1|                1|                 2|                 2|                 2|                 2|               2|               2|                       0|                       0|                   6|                   7|                   1|                   2|                   0|                   0|                   0|                   0|                  25|                   7|                   3|                   4|                   0|                   0|                   0|                   0|                   0|                   0|                   0|                   0|                   1|                   2|                   6|                   7|                   0|                   0|                   0|                   0|                   1|                   4|                   6|                  28|e4|e5|Nf3|Nc6|Bb5...|\n",
            "|86e0b7f5-7b94-4ae...|      8|           4|       Carlsen,M|     Nf6|g8f6|         g8|       f6|    N|Black|r1bqkb1r/1ppp1ppp...|       0|            0|             0|                     0|           0|                       0|         16|         16|               8|               8|                1|                1|                 2|                 2|                 2|                 2|               2|               2|                       0|                       0|                   6|                   7|                   1|                   2|                   0|                   0|                   0|                   0|                  25|                   7|                   3|                   4|                   0|                   0|                   0|                   0|                   0|                   0|                   0|                   0|                   1|                   3|                   6|                   6|                   0|                   0|                   0|                   0|                   1|                   7|                   6|                  25|e4|e5|Nf3|Nc6|Bb5...|\n",
            "|86e0b7f5-7b94-4ae...|      9|           5|Nepomniachtchi,I|     O-O|e1g1|         e1|       g1|    K|White|r1bqkb1r/1ppp1ppp...|       0|            0|             0|                     0|           0|                       0|         16|         16|               8|               8|                1|                1|                 2|                 2|                 2|                 2|               2|               2|                       0|                       0|                   6|                   7|                   1|                   2|                   0|                   0|                   0|                   0|                  25|                   7|                   3|                   4|                   0|                   0|                   0|                   0|                   0|                   0|                   0|                   0|                   1|                   3|                   6|                   6|                   0|                   0|                   0|                   0|                   1|                   7|                   6|                  25|e4|e5|Nf3|Nc6|Bb5...|\n",
            "|86e0b7f5-7b94-4ae...|     10|           5|       Carlsen,M|     Be7|f8e7|         f8|       e7|    B|Black|r1bqk2r/1pppbppp/...|       0|            0|             0|                     0|           0|                       0|         16|         16|               8|               8|                1|                1|                 2|                 2|                 2|                 2|               2|               2|                       0|                       0|                   6|                   7|                   1|                   2|                   0|                   0|                   0|                   0|                  25|                   7|                   3|                   4|                   0|                   0|                   0|                   0|                   0|                   0|                   0|                   0|                   1|                   3|                   7|                   5|                   0|                   0|                   0|                   0|                   1|                   7|                   9|                  22|e4|e5|Nf3|Nc6|Bb5...|\n",
            "+--------------------+-------+------------+----------------+--------+----+-----------+---------+-----+-----+--------------------+--------+-------------+--------------+----------------------+------------+------------------------+-----------+-----------+----------------+----------------+-----------------+-----------------+------------------+------------------+------------------+------------------+----------------+----------------+------------------------+------------------------+--------------------+--------------------+--------------------+--------------------+--------------------+--------------------+--------------------+--------------------+--------------------+--------------------+--------------------+--------------------+--------------------+--------------------+--------------------+--------------------+--------------------+--------------------+--------------------+--------------------+--------------------+--------------------+--------------------+--------------------+--------------------+--------------------+--------------------+--------------------+--------------------+--------------------+--------------------+--------------------+--------------------+\n",
            "only showing top 10 rows\n",
            "\n"
          ]
        }
      ],
      "source": [
        "chess_moves.show(10)"
      ]
    },
    {
      "cell_type": "code",
      "execution_count": null,
      "metadata": {
        "id": "XgKPZB4dB6N3"
      },
      "outputs": [],
      "source": [
        "df=chess_moves.where(\"white_queen_count = '0'\")\n",
        "df=df.where(\"black_queen_count = '0'\")"
      ]
    },
    {
      "cell_type": "code",
      "execution_count": null,
      "metadata": {
        "id": "j3bGXMaADRyO"
      },
      "outputs": [],
      "source": [
        "df=df.select(\"game_id\",\"player\")"
      ]
    },
    {
      "cell_type": "code",
      "execution_count": null,
      "metadata": {
        "id": "HBDo77qCEiT5"
      },
      "outputs": [],
      "source": [
        "df=chess_info.join(df, chess_info.game_id==df.game_id, how=\"inner\").drop(df.game_id)"
      ]
    },
    {
      "cell_type": "code",
      "execution_count": null,
      "metadata": {
        "id": "sSCIKhoTHfUO"
      },
      "outputs": [],
      "source": [
        "df=df.where(\"winner != 'draw'\")"
      ]
    },
    {
      "cell_type": "code",
      "execution_count": null,
      "metadata": {
        "id": "V64fP6OJId5y"
      },
      "outputs": [],
      "source": [
        "df=df.distinct()"
      ]
    },
    {
      "cell_type": "code",
      "execution_count": null,
      "metadata": {
        "id": "b0lwCQR2ErFo"
      },
      "outputs": [],
      "source": [
        "result_15=df.select(\"game_id\",\"event\",\"winner\")"
      ]
    },
    {
      "cell_type": "code",
      "execution_count": null,
      "metadata": {
        "colab": {
          "base_uri": "https://localhost:8080/"
        },
        "id": "vUrQ-YPwFqO0",
        "outputId": "f1a332d7-64f1-4dc8-aaad-77a64d92ca7d"
      },
      "outputs": [
        {
          "output_type": "stream",
          "name": "stdout",
          "text": [
            "+------------------------------------+-----------------+-----------------+\n",
            "|game_id                             |event            |winner           |\n",
            "+------------------------------------+-----------------+-----------------+\n",
            "|f0ad2ebb-a299-4b37-bb8f-5c332bbbce7d|FIDE WCh KO      |Smirnov,P        |\n",
            "|4a2618a6-af36-48ea-8676-73a34b1c7d96|FIDE WCh KO      |Xu Jun           |\n",
            "|14d0dcf4-356e-4ec8-a8ba-e430f1dcf699|FIDE WCh KO      |Vladimirov,E     |\n",
            "|2c36f39f-4401-4985-a8cc-1e2a7072cb45|FIDE-Wch k.o.    |Glek, Igor V     |\n",
            "|e7d10f1f-5120-444f-969c-26f4166fcf31|WCh-FIDE         |Anand,V          |\n",
            "|7e04a9d6-d522-46bb-9696-7c19c2d487ed|FIDE WCh KO      |Azmaiparashvili,Z|\n",
            "|291aba1f-80ad-45da-951c-b5882a82b148|FIDE WCh KO      |Zhang Pengxiang  |\n",
            "|c360aced-29c6-4964-b160-7dc617b953e5|FIDE WCh KO Final|Ponomariov,R     |\n",
            "|304f830c-0d1e-4a48-a60e-f7971487c2f5|FIDE WCh KO      |Serper,G         |\n",
            "|ce429291-142b-4fb9-8a68-c1e9b78be6a0|FIDE-Wch         |Karpov, Anatoly  |\n",
            "+------------------------------------+-----------------+-----------------+\n",
            "only showing top 10 rows\n",
            "\n"
          ]
        }
      ],
      "source": [
        "result_15.show(10,truncate=False)"
      ]
    },
    {
      "cell_type": "markdown",
      "source": [
        "**SECTION 3**"
      ],
      "metadata": {
        "id": "71bjrIlALrmA"
      }
    },
    {
      "cell_type": "code",
      "source": [
        "!pip install pydrive"
      ],
      "metadata": {
        "id": "axOrYAFeQNba"
      },
      "execution_count": null,
      "outputs": []
    },
    {
      "cell_type": "code",
      "execution_count": null,
      "metadata": {
        "id": "WB8EiwxxF36c"
      },
      "outputs": [],
      "source": [
        "def create_file(listt): \n",
        "  from pydrive.drive import GoogleDrive\n",
        "  from pydrive.auth import GoogleAuth\n",
        "\n",
        "  import os \n",
        "  gauth = GoogleAuth()\n",
        "  \n",
        "  gauth.LocalWebserverAuth()       \n",
        "  drive = GoogleDrive(gauth)\n",
        "\n",
        "  path = r\"gdrive/MyDrive/DE_SOLUTION_Gopika_Jayaram\"  \n",
        "  for x in os.listdir(path):\n",
        "   \n",
        "    f = drive.CreateFile({'title': \"DE_SOLUTION_Gopika_Jayaram\"})\n",
        "    f.SetContentFile(os.path.join(path, \"DE_SOLUTION_Gopika_Jayaram\"))\n",
        "    f.Upload()\n",
        "  \n",
        "  pandas_df=[]\n",
        "  no=1\n",
        "  for i in listt:\n",
        "      \n",
        "      pandas_df.append(i.toPandas())\n",
        "\n",
        "      from google.colab import drive\n",
        "\n",
        "      drive.mount('/content/drive')\n",
        "      path = 'gdrive/MyDrive/DE_SOLUTION_Gopika_Jayaram'\n",
        "      \n",
        "      \n",
        "      f=\"DE_SOLUTION_Gopika_Jayaram/df.\"+f'{no}'+\".csv\"\n",
        "      %notebook+=1\n",
        "      with open(path, 'w', encoding = 'utf-8-sig') as f:\n",
        "        i.to_csv(f)\n",
        "\n",
        "      \n",
        "\n"
      ]
    }
  ],
  "metadata": {
    "colab": {
      "collapsed_sections": [],
      "provenance": []
    },
    "kernelspec": {
      "display_name": "Python 3",
      "name": "python3"
    },
    "language_info": {
      "name": "python"
    }
  },
  "nbformat": 4,
  "nbformat_minor": 0
}